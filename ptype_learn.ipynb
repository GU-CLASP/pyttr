{
 "cells": [
  {
   "cell_type": "code",
   "execution_count": 1,
   "metadata": {},
   "outputs": [],
   "source": [
    "from ttrtypes import BType,Pred,PType,Possibility,Ty,RecType,SingletonType\n",
    "from records import Rec\n",
    "from utils import show"
   ]
  },
  {
   "cell_type": "markdown",
   "metadata": {},
   "source": [
    "# Possibilities\n",
    "The possibilities facility has been improved.  Judging an object to be of a type (as in `T.judge('c')`) will mean that the object shows up as being of that type in all possibilities.  The possibility `M` will be updated at the point at which you call `T.in_poss(M)`.  If you judge an object to be of a type in a certain possibility (as in `T.in_poss(M).judge('a')` then `a` will show up as being of that type only in possibility `M`."
   ]
  },
  {
   "cell_type": "code",
   "execution_count": 2,
   "metadata": {},
   "outputs": [
    {
     "name": "stdout",
     "output_type": "stream",
     "text": [
      "\n",
      "M:\n",
      "_____________________________________________\n",
      "T: [c, a]\n",
      "_____________________________________________\n",
      "\n",
      "\n",
      "M1:\n",
      "_____________________________________________\n",
      "T: [c, b]\n",
      "_____________________________________________\n",
      "\n"
     ]
    }
   ],
   "source": [
    "M = Possibility('M')\n",
    "M1 = Possibility('M1')\n",
    "T = BType('T')\n",
    "T.judge('c')\n",
    "T.in_poss(M).judge('a')\n",
    "T.in_poss(M1).judge('b')\n",
    "print(show(M))\n",
    "print(show(M1))"
   ]
  },
  {
   "cell_type": "markdown",
   "metadata": {},
   "source": [
    "# Learning witness conditions\n",
    "If you add a witness condition to a type (as in `T1.learn_witness_condition(lambda x: len(x)==2)`) that witness condition will apply in all possibilities.  The witness condition must be a function which returns a boolean."
   ]
  },
  {
   "cell_type": "code",
   "execution_count": 3,
   "metadata": {},
   "outputs": [
    {
     "name": "stdout",
     "output_type": "stream",
     "text": [
      "True\n",
      "True\n"
     ]
    }
   ],
   "source": [
    "T1 = BType('T1')\n",
    "T1.learn_witness_condition(lambda x: len(x)==2)\n",
    "print(T1.query('aa'))\n",
    "print(T1.in_poss(M).query('aa'))"
   ]
  },
  {
   "cell_type": "markdown",
   "metadata": {},
   "source": [
    "# Learning witness types\n",
    "You can also add a witness type to a type (as in `T.learn_witness_type(T1)`).  This means that anything of type `T1` (in the current possibility) will also be of type `T` (in that possibility)."
   ]
  },
  {
   "cell_type": "code",
   "execution_count": 4,
   "metadata": {},
   "outputs": [
    {
     "name": "stdout",
     "output_type": "stream",
     "text": [
      "True\n",
      "True\n",
      "True\n"
     ]
    }
   ],
   "source": [
    "T.learn_witness_type(T1)\n",
    "print(T.query('aa'))\n",
    "print(T.in_poss(M).query('aa'))\n",
    "print(T.in_poss(M1).query('bb'))"
   ]
  },
  {
   "cell_type": "markdown",
   "metadata": {},
   "source": [
    "# Learning witness types for ptypes\n",
    "Witness types can be added to ptypes.  For example any situation where Sam is whistling may be one where Sam is happy.  So any situation where Sam is whistling is also one where he is happy.  This might be true for Sam but not other people."
   ]
  },
  {
   "cell_type": "code",
   "execution_count": 5,
   "metadata": {},
   "outputs": [
    {
     "name": "stdout",
     "output_type": "stream",
     "text": [
      "True\n",
      "True\n",
      "\n",
      "M:\n",
      "_____________________________________________\n",
      "T: [c, a, aa]\n",
      "T1: [aa]\n",
      "whistle(sam): [e]\n",
      "happy(sam): [e]\n",
      "_____________________________________________\n",
      "\n",
      "\n",
      "M1:\n",
      "_____________________________________________\n",
      "T: [c, b, aa, bb]\n",
      "T1: [aa, bb]\n",
      "whistle(sam): [e1]\n",
      "happy(sam): [e1]\n",
      "_____________________________________________\n",
      "\n"
     ]
    }
   ],
   "source": [
    "Ind = BType('Ind')\n",
    "Ind.judge('sam')\n",
    "Ind.judge('kim')\n",
    "happy = Pred('happy',[Ind])\n",
    "whistle = Pred('whistle',[Ind])\n",
    "happySam = PType(happy,['sam'])\n",
    "whistleSam = PType(whistle,['sam'])\n",
    "whistleSam.in_poss(M).judge('e')\n",
    "whistleSam.in_poss(M1).judge('e1')\n",
    "happySam.learn_witness_type(whistleSam)\n",
    "print(happySam.in_poss(M).query('e'))\n",
    "print(happySam.in_poss(M1).query('e1'))\n",
    "print(show(M))\n",
    "print(show(M1))"
   ]
  },
  {
   "cell_type": "markdown",
   "metadata": {},
   "source": [
    "# Learning witness functions for predicates\n",
    "Witness functions may be associated with predicates (as in `happy.learn_witness_fun(lambda args: PType(smile,args))`).  Any ptype constructed with the predicate `happy` will be witnessed by a situation where the argument of the predicate smiles, whoever the argument is.  That is, the predicate brings the witness condition for the ptype along with it.  Witness functions associated with a predicate must be functions which will take the argument list and return a type.  Anything of this type will be a witness for the ptype."
   ]
  },
  {
   "cell_type": "code",
   "execution_count": 6,
   "metadata": {},
   "outputs": [
    {
     "data": {
      "text/plain": [
       "True"
      ]
     },
     "execution_count": 6,
     "metadata": {},
     "output_type": "execute_result"
    }
   ],
   "source": [
    "M2 = Possibility('M2')\n",
    "smile = Pred('smile',[Ind])\n",
    "smileKim = PType(smile,['kim'])\n",
    "happyKim = PType(happy,['kim'])\n",
    "smileKim.in_poss(M2).judge('e2')\n",
    "happy.learn_witness_fun(lambda args: PType(smile,args))\n",
    "happyKim.in_poss(M2).query('e2')"
   ]
  },
  {
   "cell_type": "markdown",
   "metadata": {},
   "source": [
    "# Calling external witness conditions in a ptype\n",
    "You can associate an external witness condition such as one based on a classifier with a predicate by first associating the witness condition with a type and then having the witness function for the predicate return that type, or some type based on that type."
   ]
  },
  {
   "cell_type": "code",
   "execution_count": 7,
   "metadata": {},
   "outputs": [
    {
     "name": "stdout",
     "output_type": "stream",
     "text": [
      "True\n",
      "False\n"
     ]
    }
   ],
   "source": [
    "Triple = BType('Triple')\n",
    "Triple.learn_witness_condition(lambda x: len(x)==3)\n",
    "Bot = BType('Bot')\n",
    "Bot.learn_witness_condition(lambda x: not x==x)\n",
    "threesome = Pred('threesome',[Ind])\n",
    "threesome.learn_witness_fun(lambda args: RecType({'x':SingletonType(Ind,args[0]),\n",
    "                                                  'type':SingletonType(Ty,Triple)}) \n",
    "                            if Triple.query(args[0]) else Bot) \n",
    "                                                \n",
    "Ind.judge('aaa')\n",
    "Ind.judge('aa')\n",
    "r = Rec({'x':'aaa',\n",
    "        'type':Triple})\n",
    "r_aa = Rec({'x':'aa',\n",
    "            'type':Triple})\n",
    "three_aaa = PType(threesome, ['aaa'])\n",
    "print(three_aaa.query(r))\n",
    "three_aa = PType(threesome,['aa'])\n",
    "print(three_aa.query(r_aa))"
   ]
  },
  {
   "cell_type": "code",
   "execution_count": null,
   "metadata": {},
   "outputs": [],
   "source": []
  }
 ],
 "metadata": {
  "kernelspec": {
   "display_name": "Python 3",
   "language": "python",
   "name": "python3"
  },
  "language_info": {
   "codemirror_mode": {
    "name": "ipython",
    "version": 3
   },
   "file_extension": ".py",
   "mimetype": "text/x-python",
   "name": "python",
   "nbconvert_exporter": "python",
   "pygments_lexer": "ipython3",
   "version": "3.7.3"
  }
 },
 "nbformat": 4,
 "nbformat_minor": 2
}
