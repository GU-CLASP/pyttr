{
 "cells": [
  {
   "cell_type": "code",
   "execution_count": 1,
   "metadata": {},
   "outputs": [],
   "source": [
    "from ttrtypes import Type, BType, PType, Pred, MeetType, JoinType, ListType, \\\n",
    "SingletonType, HypObj, LazyObj, FunType, RecType, Fun, Ty, Re, RecTy, Possibility, \\\n",
    "AbsPath, TTRString, TTRStringType, KPlusStringType\n",
    "from records import Rec\n",
    "from utils import show, example, ttrace, nottrace, ttracing, show_latex"
   ]
  },
  {
   "cell_type": "markdown",
   "metadata": {},
   "source": [
    "# Basic Types"
   ]
  },
  {
   "cell_type": "code",
   "execution_count": 2,
   "metadata": {},
   "outputs": [
    {
     "name": "stdout",
     "output_type": "stream",
     "text": [
      "True\n",
      "True\n",
      "['j', 'k', 'l', 'm', 'n']\n"
     ]
    }
   ],
   "source": [
    "Ind = BType('Ind')\n",
    "\n",
    "Ind.judge('j')\n",
    "Ind.judge('k')\n",
    "Ind.judge('l')\n",
    "Ind.judge('m')\n",
    "\n",
    "print(Ind.judge('j'))\n",
    "print(Ind.judge('n'))\n",
    "print(Ind.witness_cache)"
   ]
  },
  {
   "cell_type": "code",
   "execution_count": 3,
   "metadata": {},
   "outputs": [
    {
     "name": "stdout",
     "output_type": "stream",
     "text": [
      "False\n"
     ]
    }
   ],
   "source": [
    "print(Ind.query('h'))"
   ]
  },
  {
   "cell_type": "code",
   "execution_count": 4,
   "metadata": {},
   "outputs": [
    {
     "name": "stdout",
     "output_type": "stream",
     "text": [
      "_a0\n"
     ]
    }
   ],
   "source": [
    "print(Ind.create())"
   ]
  },
  {
   "cell_type": "markdown",
   "metadata": {},
   "source": [
    "# PTypes"
   ]
  },
  {
   "cell_type": "code",
   "execution_count": 5,
   "metadata": {},
   "outputs": [
    {
     "name": "stdout",
     "output_type": "stream",
     "text": [
      "run(j)\n",
      "True\n"
     ]
    },
    {
     "data": {
      "text/latex": [
       "\\begin{equation}\\text{run}(\\text{j})\\end{equation}"
      ],
      "text/plain": [
       "<IPython.core.display.Latex object>"
      ]
     },
     "execution_count": 5,
     "metadata": {},
     "output_type": "execute_result"
    }
   ],
   "source": [
    "run = Pred('run',[Ind])\n",
    "p = PType(run,['j'])\n",
    "\n",
    "print(show(p))\n",
    "print(p.validate())\n",
    "show_latex(p)"
   ]
  },
  {
   "cell_type": "code",
   "execution_count": 6,
   "metadata": {},
   "outputs": [
    {
     "name": "stdout",
     "output_type": "stream",
     "text": [
      "['_e0']\n",
      "True\n",
      "True\n",
      "True\n"
     ]
    }
   ],
   "source": [
    "p.create()\n",
    "\n",
    "print(p.witness_cache)\n",
    "print(Ind.judge_nonspec())\n",
    "print(p.query_nonspec())\n",
    "print(p.judge_nonspec())"
   ]
  },
  {
   "cell_type": "code",
   "execution_count": 7,
   "metadata": {},
   "outputs": [
    {
     "name": "stdout",
     "output_type": "stream",
     "text": [
      "['_e1']\n"
     ]
    }
   ],
   "source": [
    "man = Pred('man',[Ind])\n",
    "manj = PType(man,['j'])\n",
    "manj.create()\n",
    "\n",
    "print(manj.witness_cache)"
   ]
  },
  {
   "cell_type": "markdown",
   "metadata": {},
   "source": [
    "# Meet types"
   ]
  },
  {
   "cell_type": "code",
   "execution_count": 8,
   "metadata": {},
   "outputs": [
    {
     "name": "stdout",
     "output_type": "stream",
     "text": [
      "True\n",
      "False\n",
      "True\n"
     ]
    }
   ],
   "source": [
    "T1 = Type()\n",
    "T2 = Type()\n",
    "T1.judge('a')\n",
    "T2.judge('a')\n",
    "T1.judge('b')\n",
    "T = MeetType(T1,T2)\n",
    "\n",
    "print(T.query('a'))\n",
    "print(T.query('b'))\n",
    "print(T.judge_nonspec())"
   ]
  },
  {
   "cell_type": "code",
   "execution_count": 9,
   "metadata": {},
   "outputs": [
    {
     "name": "stdout",
     "output_type": "stream",
     "text": [
      "True\n",
      "[]\n",
      "['_a1']\n",
      "['_a1']\n",
      "_a2\n"
     ]
    }
   ],
   "source": [
    "T11 = Type()\n",
    "T21 = Type()\n",
    "T31 = MeetType(T11,T21)\n",
    "\n",
    "print(T31.judge_nonspec())\n",
    "print(T31.witness_cache)\n",
    "print(T11.witness_cache)\n",
    "print(T21.witness_cache)\n",
    "print(T31.create())"
   ]
  },
  {
   "cell_type": "markdown",
   "metadata": {},
   "source": [
    "# Join types"
   ]
  },
  {
   "cell_type": "code",
   "execution_count": 10,
   "metadata": {},
   "outputs": [
    {
     "name": "stdout",
     "output_type": "stream",
     "text": [
      "[]\n",
      "True\n",
      "True\n",
      "_a3\n",
      "['a', 'b', '_a3']\n",
      "['a', 'b']\n",
      "['a']\n"
     ]
    }
   ],
   "source": [
    "T3 = JoinType(T1,T2)\n",
    "\n",
    "print(T3.witness_cache)\n",
    "print(T3.query('a'))\n",
    "print(T3.query('b'))\n",
    "print(T3.create())\n",
    "print(T3.witness_cache)\n",
    "print(T1.witness_cache)\n",
    "print(T2.witness_cache)"
   ]
  },
  {
   "cell_type": "markdown",
   "metadata": {},
   "source": [
    "# The subtype relation"
   ]
  },
  {
   "cell_type": "code",
   "execution_count": 11,
   "metadata": {},
   "outputs": [
    {
     "name": "stdout",
     "output_type": "stream",
     "text": [
      "[Ind]\n",
      "True\n"
     ]
    }
   ],
   "source": [
    "x = HypObj([Ind])\n",
    "\n",
    "print(show(x.types))\n",
    "print(x.validate())"
   ]
  },
  {
   "cell_type": "code",
   "execution_count": 12,
   "metadata": {},
   "outputs": [
    {
     "name": "stdout",
     "output_type": "stream",
     "text": [
      "[T4]\n"
     ]
    }
   ],
   "source": [
    "T4 = Type()\n",
    "x1 = T4.create_hypobj()\n",
    "\n",
    "print(show(x1.types))"
   ]
  },
  {
   "cell_type": "code",
   "execution_count": 13,
   "metadata": {},
   "outputs": [
    {
     "name": "stdout",
     "output_type": "stream",
     "text": [
      "[T0, T1, (T0&T1)]\n",
      "True\n"
     ]
    }
   ],
   "source": [
    "x2 = T.create_hypobj()\n",
    "\n",
    "print(show(x2.types))\n",
    "print(T1.query(x2))"
   ]
  },
  {
   "cell_type": "code",
   "execution_count": 14,
   "metadata": {},
   "outputs": [
    {
     "name": "stdout",
     "output_type": "stream",
     "text": [
      "True\n",
      "True\n",
      "True\n",
      "False\n",
      "True\n"
     ]
    }
   ],
   "source": [
    "print(T1.subtype_of(T1))\n",
    "print(T.subtype_of(T1))\n",
    "print(T1.subtype_of(T3))\n",
    "print(T3.subtype_of(T1))\n",
    "print(T.subtype_of(T3))"
   ]
  },
  {
   "cell_type": "markdown",
   "metadata": {},
   "source": [
    "# Learning witness conditions"
   ]
  },
  {
   "cell_type": "code",
   "execution_count": 15,
   "metadata": {},
   "outputs": [
    {
     "name": "stdout",
     "output_type": "stream",
     "text": [
      "Meet types are logical and cannot learn new conditions\n"
     ]
    },
    {
     "data": {
      "text/plain": [
       "[]"
      ]
     },
     "execution_count": 15,
     "metadata": {},
     "output_type": "execute_result"
    }
   ],
   "source": [
    "ttrace()\n",
    "T.learn_witness_condition(lambda x: x)\n",
    "nottrace()"
   ]
  },
  {
   "cell_type": "markdown",
   "metadata": {},
   "source": [
    "# Functions and function types"
   ]
  },
  {
   "cell_type": "code",
   "execution_count": 16,
   "metadata": {},
   "outputs": [
    {
     "name": "stdout",
     "output_type": "stream",
     "text": [
      "j\n"
     ]
    },
    {
     "data": {
      "text/latex": [
       "\\begin{equation}\\lambda x:\\textit{Ind}\\ .\\ x\\end{equation}"
      ],
      "text/plain": [
       "<IPython.core.display.Latex object>"
      ]
     },
     "execution_count": 16,
     "metadata": {},
     "output_type": "execute_result"
    }
   ],
   "source": [
    "f = Fun('x',Ind,'x')\n",
    "print(f.app('j'))\n",
    "show_latex(f)"
   ]
  },
  {
   "cell_type": "code",
   "execution_count": 17,
   "metadata": {},
   "outputs": [
    {
     "name": "stdout",
     "output_type": "stream",
     "text": [
      "True\n",
      "True\n"
     ]
    }
   ],
   "source": [
    "IndToInd = FunType(Ind,Ind)\n",
    "\n",
    "print(IndToInd.query(f))\n",
    "print(IndToInd.query_nonspec()) # Perhaps function types should be non-empty if their domain and range types are non-empty or if it's not the case that: the domain type is empty and the range type is non-empty (material conditional)"
   ]
  },
  {
   "cell_type": "code",
   "execution_count": 18,
   "metadata": {},
   "outputs": [
    {
     "name": "stdout",
     "output_type": "stream",
     "text": [
      "h14\n"
     ]
    }
   ],
   "source": [
    "a = IndToInd.create_hypobj()\n",
    "print(show(a))"
   ]
  },
  {
   "cell_type": "code",
   "execution_count": 19,
   "metadata": {},
   "outputs": [
    {
     "name": "stdout",
     "output_type": "stream",
     "text": [
      "True\n",
      "False\n"
     ]
    }
   ],
   "source": [
    "print(f.validate_arg('j'))\n",
    "print(f.validate_arg('x'))"
   ]
  },
  {
   "cell_type": "code",
   "execution_count": 20,
   "metadata": {},
   "outputs": [
    {
     "name": "stdout",
     "output_type": "stream",
     "text": [
      "lambda x:Ind . run(x)\n"
     ]
    }
   ],
   "source": [
    "f1 = Fun('x',Ind,PType(run,['x']))\n",
    "print(f1.show())"
   ]
  },
  {
   "cell_type": "code",
   "execution_count": 21,
   "metadata": {},
   "outputs": [
    {
     "name": "stdout",
     "output_type": "stream",
     "text": [
      "run(j)\n"
     ]
    }
   ],
   "source": [
    "p1 = f1.app('j')\n",
    "print(show(p1))"
   ]
  },
  {
   "cell_type": "code",
   "execution_count": 22,
   "metadata": {},
   "outputs": [
    {
     "name": "stdout",
     "output_type": "stream",
     "text": [
      "run(j)\n"
     ]
    }
   ],
   "source": [
    "p1c = f1.appc('j')\n",
    "print(show(p1c))"
   ]
  },
  {
   "cell_type": "code",
   "execution_count": 23,
   "metadata": {},
   "outputs": [
    {
     "name": "stdout",
     "output_type": "stream",
     "text": [
      "lambda x:Ind . run(x)(x): badly typed function application\n",
      "None\n"
     ]
    },
    {
     "data": {
      "text/plain": [
       "[]"
      ]
     },
     "execution_count": 23,
     "metadata": {},
     "output_type": "execute_result"
    }
   ],
   "source": [
    "ttrace()\n",
    "print(show(f1.appc('x')))\n",
    "nottrace()"
   ]
  },
  {
   "cell_type": "markdown",
   "metadata": {},
   "source": [
    "# The type $\\textit{Type}$ (called `Ty` in `pyttr`)"
   ]
  },
  {
   "cell_type": "code",
   "execution_count": 24,
   "metadata": {},
   "outputs": [
    {
     "name": "stdout",
     "output_type": "stream",
     "text": [
      "True\n",
      "True\n",
      "True\n",
      "True\n"
     ]
    }
   ],
   "source": [
    "print(Ty.query(T))\n",
    "print(Ty.query(Ty))\n",
    "print(Ty.query(p1))\n",
    "print(Ty.query_nonspec()) # Presumably this should be True since at least Ty.query(Ty) returns True"
   ]
  },
  {
   "cell_type": "code",
   "execution_count": 25,
   "metadata": {},
   "outputs": [
    {
     "name": "stdout",
     "output_type": "stream",
     "text": [
      "Ty is a logical type and cannot learn new conditions\n"
     ]
    },
    {
     "data": {
      "text/plain": [
       "[]"
      ]
     },
     "execution_count": 25,
     "metadata": {},
     "output_type": "execute_result"
    }
   ],
   "source": [
    "ttrace()\n",
    "Ty.learn_witness_condition(lambda x: x)\n",
    "nottrace()"
   ]
  },
  {
   "cell_type": "code",
   "execution_count": 26,
   "metadata": {},
   "outputs": [
    {
     "name": "stdout",
     "output_type": "stream",
     "text": [
      "True\n",
      "False\n"
     ]
    }
   ],
   "source": [
    "IndToTy = FunType(Ind,Ty)\n",
    "\n",
    "print(IndToTy.query(f1))\n",
    "print(IndToTy.query(f))"
   ]
  },
  {
   "cell_type": "markdown",
   "metadata": {},
   "source": [
    "# Dependent types -- functions which return types"
   ]
  },
  {
   "cell_type": "code",
   "execution_count": 27,
   "metadata": {},
   "outputs": [
    {
     "name": "stdout",
     "output_type": "stream",
     "text": [
      "lambda x:Ind . man(x)\n"
     ]
    }
   ],
   "source": [
    "f2 = Fun('x',Ind,PType(man,['x']))\n",
    "print(show(f2))"
   ]
  },
  {
   "cell_type": "code",
   "execution_count": 28,
   "metadata": {},
   "outputs": [
    {
     "name": "stdout",
     "output_type": "stream",
     "text": [
      "love(j, m)\n"
     ]
    }
   ],
   "source": [
    "love = Pred('love',[Ind,Ind])\n",
    "f3 = Fun('x',Ind,Fun('y',Ind,PType(love,['x','y'])))\n",
    "p2 = f3.app('j').app('m')\n",
    "print(show(p2))"
   ]
  },
  {
   "cell_type": "code",
   "execution_count": 29,
   "metadata": {},
   "outputs": [
    {
     "name": "stdout",
     "output_type": "stream",
     "text": [
      "love(m, j)\n"
     ]
    }
   ],
   "source": [
    "p3 = Fun('x',Ind,Fun('y',Ind,PType(love,['x','y'])).app('j')).app('m')\n",
    "print(show(p3))"
   ]
  },
  {
   "cell_type": "markdown",
   "metadata": {},
   "source": [
    "# List types"
   ]
  },
  {
   "cell_type": "code",
   "execution_count": 30,
   "metadata": {},
   "outputs": [
    {
     "name": "stdout",
     "output_type": "stream",
     "text": [
      "True\n",
      "[Ind]\n",
      "True\n"
     ]
    }
   ],
   "source": [
    "ListInd = ListType(Ind)\n",
    "\n",
    "print(ListInd.query(['j','k']))\n",
    "print(show(ListInd))\n",
    "print(ListInd.query([]))"
   ]
  },
  {
   "cell_type": "markdown",
   "metadata": {},
   "source": [
    "# Singleton types"
   ]
  },
  {
   "cell_type": "code",
   "execution_count": 31,
   "metadata": {},
   "outputs": [
    {
     "name": "stdout",
     "output_type": "stream",
     "text": [
      "True\n",
      "False\n",
      "False\n",
      "Ind_j\n"
     ]
    }
   ],
   "source": [
    "Ind_j = SingletonType(Ind,'j')\n",
    "\n",
    "print(Ind_j.query('j'))\n",
    "print(Ind_j.query('k'))\n",
    "print(Ind_j.query('x'))\n",
    "print(show(Ind_j))"
   ]
  },
  {
   "cell_type": "code",
   "execution_count": 32,
   "metadata": {},
   "outputs": [
    {
     "name": "stdout",
     "output_type": "stream",
     "text": [
      "[Ind]_[j, k]\n",
      "True\n"
     ]
    }
   ],
   "source": [
    "Ind_jk = SingletonType(ListType(Ind),['j']+['k'])\n",
    "\n",
    "print(show(Ind_jk))\n",
    "print(Ind_jk.query(['j','k']))"
   ]
  },
  {
   "cell_type": "code",
   "execution_count": 33,
   "metadata": {},
   "outputs": [
    {
     "name": "stdout",
     "output_type": "stream",
     "text": [
      "Ind_j\n",
      "True\n"
     ]
    }
   ],
   "source": [
    "Ind_appk = SingletonType(Ind,Fun('x',Ind,'j').app('k'))\n",
    "\n",
    "print(show(Ind_appk))\n",
    "print(Ind_appk.query('j'))"
   ]
  },
  {
   "cell_type": "markdown",
   "metadata": {},
   "source": [
    "# Possibilities"
   ]
  },
  {
   "cell_type": "code",
   "execution_count": 34,
   "metadata": {},
   "outputs": [
    {
     "name": "stdout",
     "output_type": "stream",
     "text": [
      "True\n"
     ]
    }
   ],
   "source": [
    "print(Fun('x',Ind,Ind).app('j').query('k'))"
   ]
  },
  {
   "cell_type": "code",
   "execution_count": 35,
   "metadata": {},
   "outputs": [
    {
     "name": "stdout",
     "output_type": "stream",
     "text": [
      "True\n"
     ]
    }
   ],
   "source": [
    "print(Fun('x',Ind,PType(man,['x'])).app('j').query_nonspec())"
   ]
  },
  {
   "cell_type": "code",
   "execution_count": 36,
   "metadata": {},
   "outputs": [
    {
     "name": "stdout",
     "output_type": "stream",
     "text": [
      "man(j)\n"
     ]
    }
   ],
   "source": [
    "print(show(Fun('x',Ind,PType(man,['x'])).app('j')))"
   ]
  },
  {
   "cell_type": "code",
   "execution_count": 37,
   "metadata": {},
   "outputs": [
    {
     "name": "stdout",
     "output_type": "stream",
     "text": [
      "man(j)\n"
     ]
    }
   ],
   "source": [
    "print(show(manj))"
   ]
  },
  {
   "cell_type": "code",
   "execution_count": 38,
   "metadata": {},
   "outputs": [
    {
     "name": "stdout",
     "output_type": "stream",
     "text": [
      "True\n"
     ]
    }
   ],
   "source": [
    "print(manj.query_nonspec())"
   ]
  },
  {
   "cell_type": "code",
   "execution_count": 39,
   "metadata": {},
   "outputs": [
    {
     "name": "stdout",
     "output_type": "stream",
     "text": [
      "True\n"
     ]
    }
   ],
   "source": [
    "M = Possibility('M')\n",
    "manj.in_poss(M)\n",
    "\n",
    "print(Fun('x',Ind,PType(man,['x'])).app('j').in_poss(M).query_nonspec())"
   ]
  },
  {
   "cell_type": "code",
   "execution_count": 40,
   "metadata": {},
   "outputs": [
    {
     "name": "stdout",
     "output_type": "stream",
     "text": [
      "\n",
      "M:\n",
      "_____________________________________________\n",
      "man(j): [_e1]\n",
      "_____________________________________________\n",
      "\n"
     ]
    }
   ],
   "source": [
    "print(show(M))"
   ]
  },
  {
   "cell_type": "markdown",
   "metadata": {},
   "source": [
    "# Record types"
   ]
  },
  {
   "cell_type": "code",
   "execution_count": 41,
   "metadata": {},
   "outputs": [
    {
     "name": "stdout",
     "output_type": "stream",
     "text": [
      "True\n"
     ]
    }
   ],
   "source": [
    "print(Ty.query(RecType({'x':Ind})))"
   ]
  },
  {
   "cell_type": "code",
   "execution_count": 42,
   "metadata": {},
   "outputs": [
    {
     "name": "stdout",
     "output_type": "stream",
     "text": [
      "True\n",
      "True\n",
      "False\n"
     ]
    }
   ],
   "source": [
    "print(RecType({'x':Ind}).query(Rec({'x':'j'})))\n",
    "print(RecType({'x':Ind}).query(Rec({'x':'j', 'y':'k','z':'e1'})))\n",
    "print(RecType({'x':Ind, 'y':Ind}).query(Rec({'x':'j'}))) #False"
   ]
  },
  {
   "cell_type": "code",
   "execution_count": 43,
   "metadata": {},
   "outputs": [
    {
     "name": "stdout",
     "output_type": "stream",
     "text": [
      "True\n"
     ]
    }
   ],
   "source": [
    "print(RecTy.query(RecType({'x':Ind,\n",
    "                           'c':(Fun('v',Ind,PType(man,['v'])), ['x'])})))"
   ]
  },
  {
   "cell_type": "code",
   "execution_count": 44,
   "metadata": {},
   "outputs": [
    {
     "name": "stdout",
     "output_type": "stream",
     "text": [
      "True\n"
     ]
    }
   ],
   "source": [
    "T_man = RecType({'x':Ind, 'c':(Fun('v',Ind,PType(man,['v'])), ['x'])})\n",
    "\n",
    "print(T_man.query(Rec({'x':'j', 'c':'_e1'})))"
   ]
  },
  {
   "cell_type": "code",
   "execution_count": 45,
   "metadata": {},
   "outputs": [
    {
     "name": "stdout",
     "output_type": "stream",
     "text": [
      "\n",
      "M:\n",
      "_____________________________________________\n",
      "man(j): [_e1]\n",
      "Ind: [j, k, l, m, n, _a0]\n",
      "_____________________________________________\n",
      "\n"
     ]
    }
   ],
   "source": [
    "Ind.in_poss(M)\n",
    "T_man.in_poss(M)\n",
    "\n",
    "print(show(M))"
   ]
  },
  {
   "cell_type": "code",
   "execution_count": 46,
   "metadata": {},
   "outputs": [
    {
     "name": "stdout",
     "output_type": "stream",
     "text": [
      "True\n"
     ]
    }
   ],
   "source": [
    "print(T_man.in_poss(M).query(Rec({'x':'j', 'c':'_e1'})))"
   ]
  },
  {
   "cell_type": "markdown",
   "metadata": {},
   "source": [
    "##### Using singleton types in manifest fields to ensure identity"
   ]
  },
  {
   "cell_type": "code",
   "execution_count": 47,
   "metadata": {},
   "outputs": [
    {
     "name": "stdout",
     "output_type": "stream",
     "text": [
      "True\n"
     ]
    }
   ],
   "source": [
    "print(RecType({'x':Ind, \\\n",
    "               'y':(Fun('v',Ind,SingletonType(Ind,'v')),['x'])})\n",
    "      .in_poss(M)\n",
    "      .query(Rec({'x':'j',\n",
    "                  'y':'j',\n",
    "                  'c':'e1'})))"
   ]
  },
  {
   "cell_type": "code",
   "execution_count": 48,
   "metadata": {},
   "outputs": [
    {
     "name": "stdout",
     "output_type": "stream",
     "text": [
      "{x : Ind, c : (lambda v:Ind . man(v), [x])}\n",
      "{x = _a4, c = _e2}\n",
      "\n",
      "M:\n",
      "_____________________________________________\n",
      "man(j): [_e1]\n",
      "Ind: [j, k, l, m, n, _a0, _a4]\n",
      "man(_a4): [_e2]\n",
      "_____________________________________________\n",
      "\n"
     ]
    }
   ],
   "source": [
    "print(show(T_man))\n",
    "print(show(T_man.create())) \n",
    "print(show(M))"
   ]
  },
  {
   "cell_type": "code",
   "execution_count": 49,
   "metadata": {},
   "outputs": [
    {
     "name": "stdout",
     "output_type": "stream",
     "text": [
      "True\n"
     ]
    }
   ],
   "source": [
    "print(T_man.query(T_man.create()))"
   ]
  },
  {
   "cell_type": "code",
   "execution_count": 50,
   "metadata": {},
   "outputs": [
    {
     "name": "stdout",
     "output_type": "stream",
     "text": [
      "True\n"
     ]
    }
   ],
   "source": [
    "print(RecTy.query(RecType({'x':Ind,\n",
    "                           'c': RecType({'c': (Fun('v',Ind,PType(man,['v'])), ['x'])})}))) "
   ]
  },
  {
   "cell_type": "markdown",
   "metadata": {},
   "source": [
    "True, even though the path in the dependent field is not defined (too deeply embedded)"
   ]
  },
  {
   "cell_type": "markdown",
   "metadata": {},
   "source": [
    "#### Subtyping for record types"
   ]
  },
  {
   "cell_type": "code",
   "execution_count": 51,
   "metadata": {},
   "outputs": [
    {
     "name": "stdout",
     "output_type": "stream",
     "text": [
      "True\n"
     ]
    }
   ],
   "source": [
    "print(T_man.subtype_of(T_man))"
   ]
  },
  {
   "cell_type": "code",
   "execution_count": 52,
   "metadata": {},
   "outputs": [
    {
     "name": "stdout",
     "output_type": "stream",
     "text": [
      "True\n"
     ]
    }
   ],
   "source": [
    "print(RecType({'x':Ind,\n",
    "               'c': (Fun('v',Ind,PType(man,['v'])), ['x'])}).subtype_of(Re))"
   ]
  },
  {
   "cell_type": "code",
   "execution_count": 53,
   "metadata": {},
   "outputs": [
    {
     "name": "stdout",
     "output_type": "stream",
     "text": [
      "True\n"
     ]
    }
   ],
   "source": [
    "print(RecType({'x':Ind,\n",
    "               'c': RecType({'c': (Fun('v',Ind,PType(man,['v'])), ['x'])})})\n",
    "      .subtype_of(Re))  "
   ]
  },
  {
   "cell_type": "markdown",
   "metadata": {},
   "source": [
    "#### Paths in dependent fields"
   ]
  },
  {
   "cell_type": "code",
   "execution_count": 54,
   "metadata": {},
   "outputs": [
    {
     "name": "stdout",
     "output_type": "stream",
     "text": [
      "{x : Ind, c : {c : (lambda v:Ind . man(v), [x])}}\n",
      "False\n"
     ]
    }
   ],
   "source": [
    "print(show(RecType({'x':Ind,\n",
    "                    'c': RecType({'c': (Fun('v',Ind,PType(man,['v'])), ['x'])})})))\n",
    "\n",
    "print(RecType({'x':Ind,\n",
    "               'c': RecType({'c': (Fun('v',Ind,PType(man,['v'])), ['x'])})})\n",
    "      .validate()) \n",
    " "
   ]
  },
  {
   "cell_type": "markdown",
   "metadata": {},
   "source": [
    "False.  This would have been True in the Oz implementation since\n",
    " paths always started from the top of the record type.  Now paths\n",
    " start in the record type in which they occur."
   ]
  },
  {
   "cell_type": "code",
   "execution_count": 55,
   "metadata": {},
   "outputs": [
    {
     "name": "stdout",
     "output_type": "stream",
     "text": [
      "True\n",
      "True\n",
      "True\n"
     ]
    }
   ],
   "source": [
    "print(T_man.validate())\n",
    "\n",
    "print(RecType({'x':Ind,\n",
    "               'e':(Fun('v',Ind,RecType({'e':PType(man,['v'])})), ['x'])})\n",
    "      .validate())\n",
    "# True. Here the function is at the right level. \n",
    "\n",
    "print(RecType({'x':Ind,\n",
    "               'e':(Fun('v',Ind,RecType({'e':PType(man,['v'])})), ['x'])})\n",
    "      .in_poss(M)\n",
    "      .query(Rec({'x':'j',\n",
    "                  'y':'j',\n",
    "                  'e':Rec({'e':'_e1'})}))) \n"
   ]
  },
  {
   "cell_type": "code",
   "execution_count": 56,
   "metadata": {},
   "outputs": [
    {
     "name": "stdout",
     "output_type": "stream",
     "text": [
      "True\n",
      "True\n",
      "{x = _a6, y = _a6, e = {e = _e4}}\n"
     ]
    }
   ],
   "source": [
    "print(RecType({'x':Ind,\n",
    "               'y':(Fun('v',Ind,SingletonType(Ind,'v')),['x'])})\n",
    "      .in_poss(M)\n",
    "      .query(Rec({'x':'j',\n",
    "                  'y':'j',\n",
    "                  'e':Rec({'e':'_e1'})})))\n",
    "\n",
    "print(RecType({'x':Ind,\n",
    "               'y':(Fun('v',Ind,SingletonType(Ind,'v')),['x']),\n",
    "               'e':(Fun('v',Ind,RecType({'e':PType(man,['v'])})), ['y'])})\n",
    "      .in_poss(M).query(Rec({'x':'j',\n",
    "                             'y':'j',\n",
    "                             'e':Rec({'e':'_e1'})})))\n",
    "\n",
    "print(show(RecType({'x':Ind,\n",
    "                    'y':(Fun('v',Ind,SingletonType(Ind,'v')),['x']),\n",
    "                    'e':(Fun('v',Ind,RecType({'e':PType(man,['v'])})), ['y'])})\n",
    "           .in_poss(M)\n",
    "           .create()))\n"
   ]
  },
  {
   "cell_type": "code",
   "execution_count": 57,
   "metadata": {},
   "outputs": [
    {
     "name": "stdout",
     "output_type": "stream",
     "text": [
      "True\n"
     ]
    }
   ],
   "source": [
    "print(RecType({'x':Ind,\n",
    "               'y':(Fun('v',Ind,SingletonType(Ind,'v')),['x']),\n",
    "               'e':(Fun('v',Ind,RecType({'e':PType(man,['v'])})), ['y'])})\n",
    "      .in_poss(M)\n",
    "      .judge(Rec({'x':'j',\n",
    "                  'y':'j',\n",
    "                  'e':Rec({'e':'_e1'})})))"
   ]
  },
  {
   "cell_type": "code",
   "execution_count": 58,
   "metadata": {},
   "outputs": [
    {
     "name": "stdout",
     "output_type": "stream",
     "text": [
      "[{x = j, y = j, e = {e = _e1}}]\n"
     ]
    }
   ],
   "source": [
    "T_a_man =  RecType({'x':Ind,\n",
    "                    'y':(Fun('v',Ind,SingletonType(Ind,'v')),['x']),\n",
    "                    'e':(Fun('v',Ind,RecType({'e':PType(man,['v'])})), ['y'])})\n",
    "\n",
    "T_a_man.in_poss(M).judge(Rec({'x':'j',\n",
    "                              'y':'j',\n",
    "                              'e':Rec({'e':'_e1'})}))\n",
    "\n",
    "print(show(T_a_man.witness_cache))\n"
   ]
  },
  {
   "cell_type": "markdown",
   "metadata": {},
   "source": [
    "#### Tricky cases of subtyping"
   ]
  },
  {
   "cell_type": "code",
   "execution_count": 59,
   "metadata": {
    "scrolled": true
   },
   "outputs": [
    {
     "name": "stdout",
     "output_type": "stream",
     "text": [
      "True\n",
      "False\n",
      "True\n"
     ]
    }
   ],
   "source": [
    "print(RecType({'x':Ind,\n",
    "               'y':Ind})\n",
    "      .subtype_of(RecType({'x':Ind})))\n",
    "\n",
    "print(RecType({'x':Ind,\n",
    "               'y':Ind,\n",
    "               'e': (Fun('v',Ind,PType(man,['v'])),['y'])})\n",
    "      .subtype_of(RecType({'x':Ind,\n",
    "                           'y':(Fun('v',Ind,SingletonType(Ind,'v')),['x']),\n",
    "                           'e': (Fun('v',Ind,PType(man,['v'])),['y'])}))) #False\n",
    "\n",
    "print(RecType({'x':Ind,\n",
    "               'y':(Fun('v',Ind,SingletonType(Ind,'v')),['x']),\n",
    "               'e': (Fun('v',Ind,PType(man,['v'])),['y'])})\n",
    "      .subtype_of(RecType({'x':Ind,\n",
    "                           'y':Ind,\n",
    "                           'e': (Fun('v',Ind,PType(man,['v'])),['y'])})))"
   ]
  },
  {
   "cell_type": "code",
   "execution_count": 60,
   "metadata": {},
   "outputs": [
    {
     "name": "stdout",
     "output_type": "stream",
     "text": [
      "True\n",
      "True\n"
     ]
    }
   ],
   "source": [
    "R1 = RecType({'x':Ind,\n",
    "              'y':(Fun('v',Ind,SingletonType(Ind,'v')),['x']),\n",
    "              'e': (Fun('v',Ind,PType(man,['v'])),['y'])})\n",
    "\n",
    "R2 = RecType({'x':Ind,\n",
    "              'y':Ind,\n",
    "              'e': (Fun('v',Ind,PType(man,['v'])),['y'])})\n",
    "\n",
    "print(R1.subtype_of(R2))\n",
    "\n",
    "print(RecType({'x' : R1})\n",
    "      .subtype_of(RecType({'x' : R2})))"
   ]
  },
  {
   "cell_type": "markdown",
   "metadata": {},
   "source": [
    "#### Validation of record types"
   ]
  },
  {
   "cell_type": "code",
   "execution_count": 61,
   "metadata": {
    "scrolled": true
   },
   "outputs": [
    {
     "name": "stdout",
     "output_type": "stream",
     "text": [
      "True\n",
      "True\n",
      "True\n",
      "False\n"
     ]
    }
   ],
   "source": [
    "print(RecTy.query(RecType({'x' : Ind,\n",
    "                           'e' : (Fun('v',Ind,PType(man,['v'])),['x'])})))\n",
    "\n",
    "print(RecType({'x' : Ind,\n",
    "               'e' : (Fun('v',Ind,PType(man,['v'])),['x'])}).validate())\n",
    "\n",
    "print(RecTy.query(RecType({'x' : Ty,\n",
    "                           'e' : (Fun('v',Ind,PType(man,['v'])),['x'])})))\n",
    "#In the earlier implementation this was false.  If we want to replicate this we can first validate as below.\n",
    "\n",
    "print(RecType({'x' : Ty,\n",
    "               'e' : (Fun('v',Ind,PType(man,['v'])),['x'])}).validate())"
   ]
  },
  {
   "cell_type": "code",
   "execution_count": 62,
   "metadata": {},
   "outputs": [
    {
     "name": "stdout",
     "output_type": "stream",
     "text": [
      "lambda v:Ind . man(v)(h38): badly typed function application\n",
      "Unresolved dependency in {x : Ty, e : (lambda v:Ind . man(v), [x])}\n",
      "None\n"
     ]
    },
    {
     "data": {
      "text/plain": [
       "[]"
      ]
     },
     "execution_count": 62,
     "metadata": {},
     "output_type": "execute_result"
    }
   ],
   "source": [
    "ttrace()\n",
    "h1 = RecType({'x' : Ty,\n",
    "              'e' : (Fun('v',Ind,PType(man,['v'])),['x'])}).create_hypobj()\n",
    "print(show(h1))\n",
    "nottrace()"
   ]
  },
  {
   "cell_type": "code",
   "execution_count": 63,
   "metadata": {},
   "outputs": [
    {
     "name": "stdout",
     "output_type": "stream",
     "text": [
      "True\n"
     ]
    }
   ],
   "source": [
    "print(RecType({'x' : RecType({'x' : Ind,\n",
    "                              'e' : (Fun('v',Ind,PType(man,['v'])),['x'])})}).\n",
    "            validate())"
   ]
  },
  {
   "cell_type": "code",
   "execution_count": 64,
   "metadata": {},
   "outputs": [
    {
     "name": "stdout",
     "output_type": "stream",
     "text": [
      "False\n"
     ]
    }
   ],
   "source": [
    "print(RecType({'x' : (Fun('v',Ind,RecType({'x' : Ind,\n",
    "                                           'e' : PType(man,['v'])})),['x'])}).\n",
    "            validate())"
   ]
  },
  {
   "cell_type": "code",
   "execution_count": 65,
   "metadata": {},
   "outputs": [
    {
     "name": "stdout",
     "output_type": "stream",
     "text": [
      "{x = {x = _a7, e = _e5}}\n"
     ]
    }
   ],
   "source": [
    "print(show(RecType({'x' : RecType({'x' : Ind,\n",
    "                                   'e' : (Fun('v',Ind,PType(man,['v'])),['x'])})})\n",
    "           .create()))"
   ]
  },
  {
   "cell_type": "code",
   "execution_count": 66,
   "metadata": {},
   "outputs": [
    {
     "name": "stdout",
     "output_type": "stream",
     "text": [
      "_T0\n"
     ]
    }
   ],
   "source": [
    "print(show(RecTy.create()))"
   ]
  },
  {
   "cell_type": "code",
   "execution_count": 67,
   "metadata": {},
   "outputs": [
    {
     "name": "stdout",
     "output_type": "stream",
     "text": [
      "False\n"
     ]
    }
   ],
   "source": [
    "print(RecType({'x' : RecType({'x' : Ind,\\\n",
    "                              'e' : (Fun('v',Ind,PType(man,['v'])),['y'])}),\n",
    "                'y' : Ind}).\n",
    "            validate()) #False"
   ]
  },
  {
   "cell_type": "code",
   "execution_count": 68,
   "metadata": {},
   "outputs": [
    {
     "name": "stdout",
     "output_type": "stream",
     "text": [
      "True\n"
     ]
    }
   ],
   "source": [
    "print(RecType({'x' : (Fun('v',Ind,RecType({'x' : Ind,\n",
    "                                           'e' : PType(man,['v'])})),['y']),\n",
    "               'y' : Ind}).\n",
    "            validate())"
   ]
  },
  {
   "cell_type": "code",
   "execution_count": 69,
   "metadata": {},
   "outputs": [
    {
     "name": "stdout",
     "output_type": "stream",
     "text": [
      "{y = _a8, x = {x = _a9, e = _e6}}\n"
     ]
    }
   ],
   "source": [
    "print(show(RecType({'x' : (Fun('v',Ind,RecType({'x' : Ind,\n",
    "                                           'e' : PType(man,['v'])})),['y']),\n",
    "               'y' : Ind}).\n",
    "            create()))\n"
   ]
  },
  {
   "cell_type": "code",
   "execution_count": 70,
   "metadata": {},
   "outputs": [
    {
     "name": "stdout",
     "output_type": "stream",
     "text": [
      "{y = h46, x = {x = h47, e = h48}}\n"
     ]
    }
   ],
   "source": [
    "print(show(RecType({'x' : (Fun('v',Ind,RecType({'x' : Ind,\n",
    "                                                'e' : PType(man,['v'])})),['y']),\n",
    "                    'y' : Ind}).\n",
    "            create_hypobj()))\n"
   ]
  },
  {
   "cell_type": "code",
   "execution_count": 71,
   "metadata": {},
   "outputs": [
    {
     "name": "stdout",
     "output_type": "stream",
     "text": [
      "True\n"
     ]
    }
   ],
   "source": [
    "print(RecType({'x' : RecType({'x' : Ind,\n",
    "                              'e' : (Fun('v',Ind,PType(man,['v'])),['x'])}),\n",
    "               'y' : (Fun('v',Ind,SingletonType(Ind,'v')),['x.x'])}).\n",
    "            validate()) "
   ]
  },
  {
   "cell_type": "code",
   "execution_count": 72,
   "metadata": {},
   "outputs": [
    {
     "name": "stdout",
     "output_type": "stream",
     "text": [
      "False\n"
     ]
    }
   ],
   "source": [
    "print(RecType({'x' : (Fun('v',Ind,RecType({'x' : Ind,\n",
    "                                           'e' : PType(man,['v'])})),['y']),\n",
    "               'y' : (Fun('v',Ind,SingletonType(Ind,'v')),['x.x'])}).\n",
    "            validate())"
   ]
  },
  {
   "cell_type": "markdown",
   "metadata": {},
   "source": [
    " The corresponding type in the previous implementation would have\n",
    " been ok since it would have been written (mutatis mutandis)\n",
    " \n",
    " `RecType({'x' : RecType({'x' : Ind,\\\n",
    "                         'e' : (Fun('v',Ind, PType(man,['v'])),['y'])}),\\\n",
    "          'y' : (Fun('v',Ind,SingletonType(Ind,'v')),['x.x'])})`\n",
    " \n",
    " and path names in the dependent fields would always have been\n",
    " interpreted from the top of the record.  So this type from the old\n",
    " system is not expressible if path names are interpreted locally.\n",
    " However, there is a type very like it in the two following cells:\n"
   ]
  },
  {
   "cell_type": "code",
   "execution_count": 73,
   "metadata": {},
   "outputs": [
    {
     "name": "stdout",
     "output_type": "stream",
     "text": [
      "True\n"
     ]
    }
   ],
   "source": [
    "print(RecType({'x' : (Fun('v',Ind,RecType({'x' : SingletonType(Ind,'v'),\n",
    "                                           'e' : (Fun('v',Ind,PType(man,['v'])),['x'])})), ['y']),\n",
    "               'y' : Ind}).\n",
    "            validate())"
   ]
  },
  {
   "cell_type": "code",
   "execution_count": 74,
   "metadata": {},
   "outputs": [
    {
     "name": "stdout",
     "output_type": "stream",
     "text": [
      "{y = _a10, x = {x = _a10, e = _e7}}\n",
      "{y = h55, x = {x = h55, e = h56}}\n"
     ]
    }
   ],
   "source": [
    "print(show(RecType({'x' : (Fun('v',Ind,RecType({'x' : SingletonType(Ind,'v'),\n",
    "                                                'e' : (Fun('v',Ind,PType(man,['v'])),['x'])})), ['y']),\n",
    "               'y' : Ind}).\n",
    "            create()))\n",
    "\n",
    "print(show(RecType({'x' : (Fun('v',Ind,RecType({'x' : SingletonType(Ind,'v'),\n",
    "                                                'e' : (Fun('v',Ind,PType(man,['v'])),['x'])})), ['y']),\n",
    "               'y' : Ind}).\n",
    "            create_hypobj()))"
   ]
  },
  {
   "cell_type": "code",
   "execution_count": 75,
   "metadata": {},
   "outputs": [
    {
     "name": "stdout",
     "output_type": "stream",
     "text": [
      "True\n"
     ]
    }
   ],
   "source": [
    "print(RecType({'x' : (Fun('v',Ind,RecType({'x' : SingletonType(Ind,'v'),\\\n",
    "                                     'e' : (Fun('v',Ind,PType(man,['v'])),['x'])})), ['y']),\n",
    "               'y' : Ind}).subtype_of(\n",
    "RecType({'x' : RecType({'x' : Ind,\n",
    "                        'e' : (Fun('v',Ind,PType(man,['v'])),['x'])}),\n",
    "               'y' : Ind})\n",
    "))"
   ]
  },
  {
   "cell_type": "markdown",
   "metadata": {},
   "source": [
    "The reverse of the above is false:"
   ]
  },
  {
   "cell_type": "code",
   "execution_count": 76,
   "metadata": {},
   "outputs": [
    {
     "name": "stdout",
     "output_type": "stream",
     "text": [
      "False\n"
     ]
    }
   ],
   "source": [
    "print(\n",
    "RecType({'x' : RecType({'x' : Ind,\n",
    "                        'e' : (Fun('v',Ind,PType(man,['v'])),['x'])}),\n",
    "         'y' : Ind}).subtype_of(\n",
    "RecType({'x' : (Fun('v',Ind,RecType({'x' : SingletonType(Ind,'v'),\n",
    "                                     'e' : (Fun('v',Ind,PType(man,['v'])),['x'])})), ['y']),\n",
    "         'y' : Ind})\n",
    "))"
   ]
  },
  {
   "cell_type": "code",
   "execution_count": 77,
   "metadata": {},
   "outputs": [
    {
     "name": "stdout",
     "output_type": "stream",
     "text": [
      "False\n"
     ]
    }
   ],
   "source": [
    "print(\n",
    "RecType({'x' : (Fun('v',Ind,SingletonType(Ind,'v')),['y']),\\\n",
    "         'y' : (Fun('v',Ind,SingletonType(Ind,'v')),['x'])}).\\\n",
    "validate()\n",
    ") #False"
   ]
  },
  {
   "cell_type": "code",
   "execution_count": 78,
   "metadata": {},
   "outputs": [
    {
     "name": "stdout",
     "output_type": "stream",
     "text": [
      "y not a label in {}\n",
      "lambda v:Ind . Ind_v(None): badly typed function application\n",
      "x not a label in {}\n",
      "lambda v:Ind . Ind_v(None): badly typed function application\n",
      "Unresolved dependency in {x : (lambda v:Ind . Ind_v, [y]), y : (lambda v:Ind . Ind_v, [x])}\n",
      "None\n"
     ]
    },
    {
     "data": {
      "text/plain": [
       "[]"
      ]
     },
     "execution_count": 78,
     "metadata": {},
     "output_type": "execute_result"
    }
   ],
   "source": [
    "ttrace()\n",
    "print(\n",
    "RecType({'x' : (Fun('v',Ind,SingletonType(Ind,'v')),['y']),\n",
    "         'y' : (Fun('v',Ind,SingletonType(Ind,'v')),['x'])}).\n",
    "create()\n",
    ") #None\n",
    "nottrace()"
   ]
  },
  {
   "cell_type": "code",
   "execution_count": 79,
   "metadata": {},
   "outputs": [
    {
     "name": "stdout",
     "output_type": "stream",
     "text": [
      "y not a label in {}\n",
      "lambda v:Ind . Ind_v(None): badly typed function application\n",
      "x not a label in {}\n",
      "lambda v:Ind . Ind_v(None): badly typed function application\n",
      "Unresolved dependency in {x : (lambda v:Ind . Ind_v, [y]), y : (lambda v:Ind . Ind_v, [x])}\n",
      "None\n"
     ]
    },
    {
     "data": {
      "text/plain": [
       "[]"
      ]
     },
     "execution_count": 79,
     "metadata": {},
     "output_type": "execute_result"
    }
   ],
   "source": [
    "ttrace()\n",
    "print(\n",
    "RecType({'x' : (Fun('v',Ind,SingletonType(Ind,'v')),['y']),\n",
    "         'y' : (Fun('v',Ind,SingletonType(Ind,'v')),['x'])}).\n",
    "create_hypobj()\\\n",
    ") #None\n",
    "nottrace()\n"
   ]
  },
  {
   "cell_type": "code",
   "execution_count": 80,
   "metadata": {},
   "outputs": [
    {
     "name": "stdout",
     "output_type": "stream",
     "text": [
      "True\n"
     ]
    }
   ],
   "source": [
    "print(\\\n",
    "RecType({'x' : (Fun('v',Ind,SingletonType(Ind,'v')),['y']),\n",
    "         'y' : (Fun('v',Ind,SingletonType(Ind,'v')),['x'])}).\n",
    "query(\\\n",
    "Rec({'x' : 'j',\\\n",
    "     'y' : 'j'})\\\n",
    ")\\\n",
    ") # True!"
   ]
  },
  {
   "cell_type": "code",
   "execution_count": 81,
   "metadata": {},
   "outputs": [
    {
     "name": "stdout",
     "output_type": "stream",
     "text": [
      "False\n"
     ]
    }
   ],
   "source": [
    "print(\\\n",
    "RecType({'x' : (Fun('v',Ind,SingletonType(Ind,'v')),['y']),\n",
    "         'y' : (Fun('v',Ind,SingletonType(Ind,'v')),['x'])}).\n",
    "query(\n",
    "Rec({'x' : 'j',\n",
    "     'y' : 'k'})\n",
    ")\n",
    ") # False"
   ]
  },
  {
   "cell_type": "markdown",
   "metadata": {},
   "source": [
    " The five previous examples show that circularity in dependencies can be used\n",
    " in a limited fashion if desired.  Given a record that you are\n",
    " checking it is possible for the dependencies to be resolved using\n",
    " the record.  However, the type will not be validated and it is not\n",
    " possible to create objects of the type, which in turn means that it\n",
    " will not be possible to show that it is a subtype of another type."
   ]
  },
  {
   "cell_type": "markdown",
   "metadata": {},
   "source": [
    "#### Lazy objects in record types"
   ]
  },
  {
   "cell_type": "code",
   "execution_count": 82,
   "metadata": {},
   "outputs": [
    {
     "name": "stdout",
     "output_type": "stream",
     "text": [
      "True\n"
     ]
    }
   ],
   "source": [
    "print(\n",
    "RecType({'x' : ListType(Ind),\n",
    "         'y' : ListType(Ind),\n",
    "         'z' : (Fun('v1',ListType(Ind),\n",
    "                Fun('v2',ListType(Ind),SingletonType(ListType(Ind),LazyObj(['v1','+','v2'])))),['x','y'])}).\n",
    "validate()\n",
    ") "
   ]
  },
  {
   "cell_type": "code",
   "execution_count": 83,
   "metadata": {},
   "outputs": [
    {
     "name": "stdout",
     "output_type": "stream",
     "text": [
      "True\n"
     ]
    }
   ],
   "source": [
    "print(\n",
    "RecType({'x' : Ind,\n",
    "         'y' : Ind,\n",
    "         'e' : (Fun('v1',Ind,\n",
    "                 Fun('v2',Ind,PType(love,['v1','v2']))), ['x','y'])}).\n",
    "validate()\n",
    ")"
   ]
  },
  {
   "cell_type": "code",
   "execution_count": 84,
   "metadata": {},
   "outputs": [
    {
     "name": "stdout",
     "output_type": "stream",
     "text": [
      "True\n"
     ]
    }
   ],
   "source": [
    "PType(love,['j','m']).in_poss(M).judge('e8')\n",
    "print(\n",
    "RecType({'x' : Ind,\n",
    "         'y' : Ind,\n",
    "         'e' : (Fun('v1',Ind,\n",
    "                 Fun('v2',Ind,PType(love,['v1','v2']))), ['x','y'])}).\n",
    "in_poss(M).\n",
    "query(Rec({'x' : 'j',\n",
    "       'y' : 'm',\n",
    "       'e' : 'e8'}))\n",
    ")"
   ]
  },
  {
   "cell_type": "code",
   "execution_count": 85,
   "metadata": {},
   "outputs": [
    {
     "name": "stdout",
     "output_type": "stream",
     "text": [
      "True\n"
     ]
    }
   ],
   "source": [
    "print(\n",
    "RecType({'x' : ListType(Ind),\n",
    "         'y' : ListType(Ind),\n",
    "         'z' : (Fun('v1',ListType(Ind),\n",
    "                Fun('v2',ListType(Ind),SingletonType(ListType(Ind),LazyObj(['v1','+','v2'])))),['x','y'])}).\n",
    "query(\n",
    "Rec({'x' : ['j'],\n",
    "     'y' : ['m'],\n",
    "     'z' : ['j', 'm']})\n",
    ")\n",
    ") "
   ]
  },
  {
   "cell_type": "code",
   "execution_count": 86,
   "metadata": {},
   "outputs": [
    {
     "name": "stdout",
     "output_type": "stream",
     "text": [
      "{x = h67, y = h68, z = [h67, +, h68]}\n"
     ]
    }
   ],
   "source": [
    "print(\n",
    "show(\n",
    "RecType({'x' : ListType(Ind),\n",
    "         'y' : ListType(Ind),\n",
    "         'z' : (Fun('v1',ListType(Ind),\n",
    "                Fun('v2',ListType(Ind),SingletonType(ListType(Ind),LazyObj(['v1','+','v2'])))),['x','y'])}).\n",
    "create_hypobj()\n",
    ")\n",
    ")"
   ]
  },
  {
   "cell_type": "code",
   "execution_count": 87,
   "metadata": {},
   "outputs": [
    {
     "name": "stdout",
     "output_type": "stream",
     "text": [
      "{x = [j], y = h69, z = [[j], +, h69]}\n"
     ]
    }
   ],
   "source": [
    "print(\n",
    "show(\n",
    "RecType({'x' : SingletonType(ListType(Ind),['j']),\n",
    "         'y' : ListType(Ind),\n",
    "         'z' : (Fun('v1',ListType(Ind),\n",
    "                Fun('v2',ListType(Ind),SingletonType(ListType(Ind),LazyObj(['v1','+','v2'])))),['x','y'])}).\n",
    "create_hypobj()\n",
    ")\n",
    ")"
   ]
  },
  {
   "cell_type": "code",
   "execution_count": 88,
   "metadata": {},
   "outputs": [
    {
     "name": "stdout",
     "output_type": "stream",
     "text": [
      "{x = [j], y = [m], z = [j, m]}\n"
     ]
    }
   ],
   "source": [
    "print(\n",
    "show(\n",
    "RecType({'x' : SingletonType(ListType(Ind),['j']),\n",
    "         'y' : SingletonType(ListType(Ind),['m']),\n",
    "         'z' : (Fun('v1',ListType(Ind),\n",
    "                Fun('v2',ListType(Ind),SingletonType(ListType(Ind),LazyObj(['v1','+','v2'])))),['x','y'])}).\n",
    "create_hypobj()\n",
    ")\n",
    ")"
   ]
  },
  {
   "cell_type": "code",
   "execution_count": 89,
   "metadata": {},
   "outputs": [
    {
     "name": "stdout",
     "output_type": "stream",
     "text": [
      "True\n"
     ]
    }
   ],
   "source": [
    "print(\n",
    "show(\n",
    "RecType({'x' : FunType(Ind,RecTy),\n",
    "         'y' : Ind,\n",
    "         'z' : (Fun('f',FunType(Ind,RecTy), Fun('v',Ind,SingletonType(RecTy,LazyObj(['f','@','v'])))),\n",
    "                 ['x','y'])}).\n",
    "query(\n",
    "Rec({'x' : Fun('v',Ind,RecType({'e' : PType(man, ['v'])})),\n",
    "     'y' : 'j',\n",
    "     'z' : RecType({'e' : PType(man, ['j'])})})\n",
    ")\n",
    ")\n",
    ")"
   ]
  },
  {
   "cell_type": "code",
   "execution_count": 90,
   "metadata": {},
   "outputs": [
    {
     "name": "stdout",
     "output_type": "stream",
     "text": [
      "False\n"
     ]
    }
   ],
   "source": [
    "print(\n",
    "show(\n",
    "RecType({'x' : FunType(Ind,RecTy),\n",
    "         'y' : Ind,\n",
    "         'w' : Ind,\n",
    "         'z' : (Fun('f',FunType(Ind,RecTy), Fun('v',Ind,SingletonType(RecTy,LazyObj(['f','@','v'])))),\n",
    "                 ['x','y'])}).\n",
    "subtype_of(\n",
    "RecType({'x' : FunType(Ind,RecTy),\n",
    "         'y' : Ind,\n",
    "         'w' : Ind,\n",
    "         'z' : (Fun('f',FunType(Ind,RecTy), Fun('v',Ind,SingletonType(RecTy,LazyObj(['f','@','v'])))),\n",
    "                 ['x','w'])})\n",
    ")\n",
    ")\n",
    ") # False"
   ]
  },
  {
   "cell_type": "code",
   "execution_count": 91,
   "metadata": {},
   "outputs": [
    {
     "name": "stdout",
     "output_type": "stream",
     "text": [
      "{x = h76, y = h77, w = h78, z = [h76, @, h77]}\n"
     ]
    }
   ],
   "source": [
    "print(\n",
    "show(\n",
    "RecType({'x' : FunType(Ind,RecTy),\n",
    "         'y' : Ind,\n",
    "         'w' : Ind,\n",
    "         'z' : (Fun('f',FunType(Ind,RecTy), Fun('v',Ind,SingletonType(RecTy,LazyObj(['f','@','v'])))),\n",
    "                 ['x','y'])}).\n",
    "create_hypobj(\n",
    ")\n",
    ")\n",
    ")"
   ]
  },
  {
   "cell_type": "code",
   "execution_count": 92,
   "metadata": {},
   "outputs": [
    {
     "name": "stdout",
     "output_type": "stream",
     "text": [
      "{x : (Ind->RecTy), y : Ind, w : Ind, z : (lambda f:(Ind->RecTy) . lambda v:Ind . RecTy_[f, @, v], [x, y])}\n"
     ]
    }
   ],
   "source": [
    "print(\n",
    "show(\n",
    "RecType({'x' : FunType(Ind,RecTy),\n",
    "         'y' : Ind,\n",
    "         'w' : Ind,\n",
    "         'z' : (Fun('f',FunType(Ind,RecTy), Fun('v',Ind,SingletonType(RecTy,LazyObj(['f','@','v'])))),\n",
    "                 ['x','y'])\n",
    "         })\n",
    ")\n",
    ")"
   ]
  },
  {
   "cell_type": "code",
   "execution_count": 93,
   "metadata": {},
   "outputs": [
    {
     "name": "stdout",
     "output_type": "stream",
     "text": [
      "True\n"
     ]
    }
   ],
   "source": [
    "print(\n",
    "    show(\n",
    "RecType({'x' : FunType(Ind,RecTy),\n",
    "         'y' : Ind,\n",
    "         'w' : Ind,\n",
    "         'z' : (Fun('f',FunType(Ind,RecTy), Fun('v',Ind,SingletonType(RecTy,LazyObj(['f','@','v'])))),\n",
    "                 ['x','y'])\n",
    "         }).\n",
    "subtype_of(RecType({'z' : RecTy}))\n",
    ")\n",
    ")"
   ]
  },
  {
   "cell_type": "code",
   "execution_count": 94,
   "metadata": {},
   "outputs": [
    {
     "name": "stdout",
     "output_type": "stream",
     "text": [
      "{x = h82, y = h83, w = h84, z = [h82, @, h83]}\n"
     ]
    }
   ],
   "source": [
    "print(\n",
    "    show(\n",
    "RecType({'x' : FunType(Ind,RecTy),\n",
    "         'y' : Ind,\n",
    "         'w' : Ind,\n",
    "         'z' : (Fun('f',FunType(Ind,RecTy), Fun('v',Ind,SingletonType(RecTy,LazyObj(['f','@','v'])))),\n",
    "                 ['x','y'])\n",
    "         }).\n",
    "         create_hypobj()\n",
    "         )\n",
    "         )"
   ]
  },
  {
   "cell_type": "code",
   "execution_count": 95,
   "metadata": {},
   "outputs": [
    {
     "name": "stdout",
     "output_type": "stream",
     "text": [
      "True\n"
     ]
    }
   ],
   "source": [
    "print(\n",
    "    show(\n",
    "        RecType({'x' : FunType(Ind,RecTy),\n",
    "         'y' : Ind,\n",
    "         'w' : Ind,\n",
    "         'z' : (Fun('f',FunType(Ind,RecTy), Fun('v',Ind,SingletonType(RecTy,LazyObj(['f','@','v'])))),\n",
    "                 ['x','y'])\n",
    "         }).\n",
    "         subtype_of(RecType({'z' : RecTy}))\n",
    "         )\n",
    "         )"
   ]
  },
  {
   "cell_type": "code",
   "execution_count": 96,
   "metadata": {},
   "outputs": [
    {
     "name": "stdout",
     "output_type": "stream",
     "text": [
      "True\n"
     ]
    }
   ],
   "source": [
    "TT1 = FunType(Ind, RecTy)\n",
    "TT2 = FunType(Ind, Ty)\n",
    "TT3 = FunType(TT1, TT2)\n",
    "ff = Fun('f', TT1, Fun('x', Ind, LazyObj(['f','@','x'])))\n",
    "print(TT3.query(ff))"
   ]
  },
  {
   "cell_type": "markdown",
   "metadata": {},
   "source": [
    "#### Absolute paths"
   ]
  },
  {
   "cell_type": "code",
   "execution_count": 97,
   "metadata": {},
   "outputs": [
    {
     "name": "stdout",
     "output_type": "stream",
     "text": [
      "True\n"
     ]
    }
   ],
   "source": [
    "print(\n",
    "Ty.query(RecType({'c' : (Fun('v', Ind, PType(man,['v'])),\n",
    "                       [AbsPath(Rec({'x' : 'j'}), 'x')])}))\n",
    "                       )"
   ]
  },
  {
   "cell_type": "code",
   "execution_count": 98,
   "metadata": {},
   "outputs": [
    {
     "name": "stdout",
     "output_type": "stream",
     "text": [
      "True\n"
     ]
    }
   ],
   "source": [
    "TxInd = RecType({'x' : Ind})\n",
    "print(\n",
    "    FunType(TxInd, RecTy).\n",
    "    query(Fun('r', TxInd, RecType({'c' : (Fun('v', Ind, PType(man,['v'])),\n",
    "                        [AbsPath('r', 'x')])})))\n",
    "                       )"
   ]
  },
  {
   "cell_type": "code",
   "execution_count": 99,
   "metadata": {},
   "outputs": [
    {
     "name": "stdout",
     "output_type": "stream",
     "text": [
      "{c : (lambda v:Ind . man(v), [{x = j}.x])}\n"
     ]
    }
   ],
   "source": [
    "print(\n",
    "    show(\n",
    "        Fun('r', TxInd, RecType({'c' : (Fun('v', Ind, PType(man,['v'])),\n",
    "                            [AbsPath('r', 'x')])})).app(Rec({'x' : 'j'}))\n",
    "                        ))"
   ]
  },
  {
   "cell_type": "markdown",
   "metadata": {},
   "source": [
    "#### Merging record types"
   ]
  },
  {
   "cell_type": "code",
   "execution_count": 100,
   "metadata": {},
   "outputs": [
    {
     "name": "stdout",
     "output_type": "stream",
     "text": [
      "{x : Ind, y : Ind}\n"
     ]
    }
   ],
   "source": [
    "print(\n",
    "    show(\n",
    "        RecType({'x' : Ind,\n",
    "                 'y' : Ind})\n",
    "        .merge(RecType({'x':Ind}))\n",
    "        )\n",
    "        )"
   ]
  },
  {
   "cell_type": "code",
   "execution_count": 101,
   "metadata": {},
   "outputs": [
    {
     "name": "stdout",
     "output_type": "stream",
     "text": [
      "{x : Ind, y : Ind}\n"
     ]
    }
   ],
   "source": [
    "print(\n",
    "    show(\n",
    "     RecType({'x':Ind}).\n",
    "     merge(RecType({'x' : Ind,\n",
    "                    'y' : Ind}))\n",
    "                    )\n",
    "                    )\n"
   ]
  },
  {
   "cell_type": "markdown",
   "metadata": {},
   "source": [
    "##### Merging not only for record types"
   ]
  },
  {
   "cell_type": "code",
   "execution_count": 102,
   "metadata": {},
   "outputs": [
    {
     "name": "stdout",
     "output_type": "stream",
     "text": [
      "RecTy\n"
     ]
    }
   ],
   "source": [
    "print(\n",
    "    show(\n",
    "        JoinType(Ind,Ty).merge(RecTy)))\n"
   ]
  },
  {
   "cell_type": "code",
   "execution_count": 103,
   "metadata": {},
   "outputs": [
    {
     "name": "stdout",
     "output_type": "stream",
     "text": [
      "Ind\n"
     ]
    }
   ],
   "source": [
    "print(\n",
    "    show(\n",
    "        JoinType(Ind,Ty).merge(Ind)\n",
    "    )\n",
    "    )"
   ]
  },
  {
   "cell_type": "code",
   "execution_count": 104,
   "metadata": {},
   "outputs": [
    {
     "name": "stdout",
     "output_type": "stream",
     "text": [
      "(IndvRecTy)\n"
     ]
    }
   ],
   "source": [
    "print(\n",
    "    show(\n",
    "        JoinType(Ind,Ty).merge(JoinType(Ind,RecTy))\n",
    "        )\n",
    "        )"
   ]
  },
  {
   "cell_type": "code",
   "execution_count": 105,
   "metadata": {},
   "outputs": [
    {
     "name": "stdout",
     "output_type": "stream",
     "text": [
      "Ind\n"
     ]
    }
   ],
   "source": [
    "print(\n",
    "    show(\n",
    "        Ind.merge(JoinType(Ind,Ty))\n",
    "        ))\n"
   ]
  },
  {
   "cell_type": "markdown",
   "metadata": {},
   "source": [
    "#### Tricky cases of merging"
   ]
  },
  {
   "cell_type": "code",
   "execution_count": 106,
   "metadata": {},
   "outputs": [
    {
     "name": "stdout",
     "output_type": "stream",
     "text": [
      "{a : Ind, b : Ind}\n"
     ]
    }
   ],
   "source": [
    "print(\n",
    "    show(\n",
    "        RecType({'a' : Ind}).merge(RecType({'b' : Ind}))\n",
    "        )\n",
    "        )"
   ]
  },
  {
   "cell_type": "code",
   "execution_count": 107,
   "metadata": {},
   "outputs": [
    {
     "name": "stdout",
     "output_type": "stream",
     "text": [
      "{c : Ind, a : Ind, b : Ind}\n"
     ]
    }
   ],
   "source": [
    "print(\n",
    "    show(\n",
    "        RecType({'a' : Ind,\n",
    "                 'c' : JoinType(Ind,Ty)}).merge(RecType({'b' : Ind,\n",
    "                                                         'c' : Ind}))\n",
    "                                                         )\n",
    "                                                         )"
   ]
  },
  {
   "cell_type": "code",
   "execution_count": 108,
   "metadata": {},
   "outputs": [
    {
     "name": "stdout",
     "output_type": "stream",
     "text": [
      "{x : Ind, y : (lambda v0:Ind . {a : Ind, c : man(v0)}, [x]), z : Ind, w : Ind}\n"
     ]
    }
   ],
   "source": [
    "T1 = RecType({'x' : Ind,\n",
    "              'y' : (Fun('v', Ind, RecType({'a' : Ind,\n",
    "                                            'c' : PType(man, ['v'])})), ['x']),\n",
    "              'z' : Ind})\n",
    "T2 = RecType({'x' : Ind,\n",
    "              'y' : (Fun('v', Ind, RecType({'a' : Ind,\n",
    "                                            'c' : PType(man, ['v'])})), ['x']),\n",
    "              'w' : Ind})\n",
    "print(\n",
    "    show(\n",
    "        T1.merge(T2)\n",
    "        )\n",
    "        )"
   ]
  },
  {
   "cell_type": "code",
   "execution_count": 109,
   "metadata": {},
   "outputs": [
    {
     "name": "stdout",
     "output_type": "stream",
     "text": [
      "{x : Ind, y : (lambda v1:Ind . lambda v2:Ind . {a : Ind, c : (man(v1)&man(v2))}, [x, z]), z : Ind}\n"
     ]
    }
   ],
   "source": [
    "T1 = RecType({'x' : Ind,\n",
    "              'y' : (Fun('v', Ind, RecType({'a' : Ind,\n",
    "                                            'c' : PType(man, ['v'])})), ['x']),\n",
    "              'z' : Ind})\n",
    "T2 = RecType({'x' : Ind,\n",
    "              'y' : (Fun('v', Ind, RecType({'a' : Ind,\n",
    "                                            'c' : PType(man, ['v'])})), ['z']),\n",
    "              'z' : Ind})\n",
    "print(\n",
    "    show(\n",
    "        T1.merge(T2)\n",
    "        )\n",
    "        )\n"
   ]
  },
  {
   "cell_type": "code",
   "execution_count": 110,
   "metadata": {},
   "outputs": [
    {
     "name": "stdout",
     "output_type": "stream",
     "text": [
      "{x : Ind_j, y : (lambda v3:Ind . lambda v4:Ind . {a : Ind, c : (man(v3)&man(v4))}, [x, z]), z : Ind_j}\n"
     ]
    }
   ],
   "source": [
    "T1 = RecType({'x' : SingletonType(Ind, 'j'),\n",
    "              'y' : (Fun('v', Ind, RecType({'a' : Ind,\n",
    "                                            'c' : PType(man, ['v'])})), ['x']),\n",
    "              'z' : Ind})\n",
    "T2 = RecType({'x' : Ind,\n",
    "              'y' : (Fun('v', Ind, RecType({'a' : Ind,\n",
    "                                            'c' : PType(man, ['v'])})), ['z']),\n",
    "              'z' : SingletonType(Ind, 'j')})\n",
    "print(\n",
    "    show(\n",
    "        T1.merge(T2)\n",
    "        )\n",
    "        )    "
   ]
  },
  {
   "cell_type": "markdown",
   "metadata": {},
   "source": [
    " In the previous Oz implementation there was an operation that would simplify\n",
    " dependent types when the path associated with them pointed to a singleton\n",
    " type.  Not (yet) implemented here."
   ]
  },
  {
   "cell_type": "code",
   "execution_count": 111,
   "metadata": {},
   "outputs": [
    {
     "name": "stdout",
     "output_type": "stream",
     "text": [
      "{a : Ind_j, b : Ind}\n"
     ]
    }
   ],
   "source": [
    "T1 = RecType({'a' : Ind,\n",
    "              'b' : Ind})\n",
    "T2 = RecType({'a' : SingletonType(Ind, 'j')})\n",
    "print(\n",
    "    show(\n",
    "        T1.merge(T2)\n",
    "        )\n",
    "        )"
   ]
  },
  {
   "cell_type": "code",
   "execution_count": 112,
   "metadata": {},
   "outputs": [
    {
     "name": "stdout",
     "output_type": "stream",
     "text": [
      "{a : Ind}\n"
     ]
    }
   ],
   "source": [
    "T1 = Re\n",
    "T2 = RecType({'a' : Ind})\n",
    "print(\n",
    "    show(\n",
    "        T1.merge(T2)\n",
    "        )\n",
    "        )"
   ]
  },
  {
   "cell_type": "code",
   "execution_count": 113,
   "metadata": {},
   "outputs": [
    {
     "name": "stdout",
     "output_type": "stream",
     "text": [
      "{a : (man(j)&man(m))}\n"
     ]
    }
   ],
   "source": [
    "T1 = RecType({'a' : PType(man, ['j'])})\n",
    "T2 = RecType({'a' : PType(man, ['m'])})\n",
    "print(\n",
    "    show(\n",
    "        T1.merge(T2)\n",
    "        )\n",
    "        )"
   ]
  },
  {
   "cell_type": "code",
   "execution_count": 114,
   "metadata": {},
   "outputs": [
    {
     "name": "stdout",
     "output_type": "stream",
     "text": [
      "{e : (lambda v5:Ind . (man(v5)&man(j)), [x]), x : Ind}\n",
      "{e : (lambda v6:Ind . (man(j)&man(v6)), [x]), x : Ind}\n"
     ]
    }
   ],
   "source": [
    "T1 = RecType({'x' : Ind,\n",
    "              'e' : (Fun('v',Ind,PType(man,['v'])),['x'])})\n",
    "T2 = RecType({'e' : PType(man,['j'])})\n",
    "print(\n",
    "    show(\n",
    "        T1.merge(T2)\n",
    "        )\n",
    "        )\n",
    "print(\n",
    "    show(\n",
    "        T2.merge(T1)\n",
    "        )\n",
    "        )"
   ]
  },
  {
   "cell_type": "markdown",
   "metadata": {},
   "source": [
    "#### Asymmetric merge"
   ]
  },
  {
   "cell_type": "code",
   "execution_count": 115,
   "metadata": {},
   "outputs": [
    {
     "name": "stdout",
     "output_type": "stream",
     "text": [
      "RecTy\n"
     ]
    }
   ],
   "source": [
    "T1 = Ind\n",
    "T2 = RecTy\n",
    "print(\n",
    "    show(\n",
    "        T1.amerge(T2)\n",
    "        )\n",
    "        )\n"
   ]
  },
  {
   "cell_type": "code",
   "execution_count": 116,
   "metadata": {},
   "outputs": [
    {
     "name": "stdout",
     "output_type": "stream",
     "text": [
      "{agenda : [Ty]_[], latest_move : {e : run(j)}}\n"
     ]
    }
   ],
   "source": [
    "T1 = RecType({'agenda' : SingletonType(ListType(Ty), [RecType({'e' : PType(run,['j'])})]),\n",
    "              'latest_move' : SingletonType(ListType(Re),[])})\n",
    "T2 = RecType({'agenda' : SingletonType(ListType(Ty),[]),\n",
    "              'latest_move' : RecType({'e' : PType(run,['j'])})})\n",
    "print(\n",
    "    show(\n",
    "        T1.amerge(T2)\n",
    "        )\n",
    "        )      "
   ]
  },
  {
   "cell_type": "code",
   "execution_count": 117,
   "metadata": {},
   "outputs": [
    {
     "name": "stdout",
     "output_type": "stream",
     "text": [
      "{x : Ind, agenda : [Ty]_[], latest_move : (lambda v:Ind . {e : run(v)}, [x])}\n"
     ]
    }
   ],
   "source": [
    "T1 = RecType({'x' : Ind,\n",
    "              'agenda' : (Fun('v',Ind,SingletonType(ListType(Ty), [RecType({'e' : PType(run,['v'])})])),['x']),\n",
    "              'latest_move' : SingletonType(ListType(Re),[])})\n",
    "T2 = RecType({'x' : Ind,\n",
    "              'agenda' : SingletonType(ListType(Ty),[]),\n",
    "              'latest_move' : (Fun('v',Ind,RecType({'e' : PType(run,['v'])})),['x'])})\n",
    "print(\n",
    "    show(\n",
    "        T1.amerge(T2)\n",
    "        )\n",
    "        )"
   ]
  },
  {
   "cell_type": "code",
   "execution_count": 118,
   "metadata": {},
   "outputs": [
    {
     "name": "stdout",
     "output_type": "stream",
     "text": [
      "{x : Ind, e : (lambda v7:Ind . (run(v7)&man(v7)), [x])}\n",
      "{x : Ind, e : (lambda v:Ind . man(v), [x])}\n"
     ]
    }
   ],
   "source": [
    "T1 = RecType({'x' : Ind,\n",
    "              'e' : (Fun('v',Ind,PType(run,['v'])),['x'])})\n",
    "T2 = RecType({'x' : Ind,\n",
    "              'e' : (Fun('v',Ind,PType(man,['v'])),['x'])})\n",
    "print(\n",
    "    show(\n",
    "        T1.merge(T2)\n",
    "        )\n",
    "        )\n",
    "print(\n",
    "    show(\n",
    "        T1.amerge(T2)\n",
    "        )\n",
    "        )"
   ]
  },
  {
   "cell_type": "code",
   "execution_count": 119,
   "metadata": {},
   "outputs": [
    {
     "name": "stdout",
     "output_type": "stream",
     "text": [
      "{e : (lambda v8:Ind . lambda v9:Ind . (run(v8)&man(v9)), [x, y]), x : Ind, y : Ind}\n",
      "{e : (lambda v:Ind . man(v), [y]), x : Ind, y : Ind}\n"
     ]
    }
   ],
   "source": [
    "T1 = RecType({'x' : Ind,\n",
    "              'e' : (Fun('v',Ind,PType(run,['v'])),['x'])})\n",
    "T2 = RecType({'y' : Ind,\n",
    "              'e' : (Fun('v',Ind,PType(man,['v'])),['y'])})\n",
    "print(\n",
    "    show(\n",
    "        T1.merge(T2)\n",
    "        )\n",
    "        )\n",
    "print(\n",
    "    show(\n",
    "        T1.amerge(T2)\n",
    "        )\n",
    "        )"
   ]
  },
  {
   "cell_type": "code",
   "execution_count": 120,
   "metadata": {},
   "outputs": [
    {
     "name": "stdout",
     "output_type": "stream",
     "text": [
      "{e : (lambda v10:Ind . lambda v11:Ind . ({y : Ind, e : run(v10)}&man(v11)), [x, y]), x : Ind, y : Ind}\n",
      "{e : (lambda v:Ind . man(v), [y]), x : Ind, y : Ind}\n"
     ]
    }
   ],
   "source": [
    "T1 = RecType({'x' : Ind,\n",
    "              'e' : (Fun('v',Ind,RecType({'y' : Ind,\n",
    "                                          'e' : PType(run,['v'])})),['x'])})\n",
    "T2 = RecType({'y' : Ind,\n",
    "              'e' : (Fun('v',Ind,PType(man,['v'])),['y'])})\n",
    "print(\n",
    "    show(\n",
    "        T1.merge(T2)\n",
    "        )\n",
    "        )\n",
    "print(\n",
    "    show(\n",
    "        T1.amerge(T2)\n",
    "        )\n",
    "        )\n"
   ]
  },
  {
   "cell_type": "code",
   "execution_count": 121,
   "metadata": {},
   "outputs": [
    {
     "name": "stdout",
     "output_type": "stream",
     "text": [
      "{e : (lambda v12:Ind . lambda v13:Ind . {e : (run(v12)&man(v13)), y : Ind, x : Ind}, [x, y]), x : Ind, y : Ind}\n",
      "{e : (lambda v:Ind . {x : Ind, e : man(v)}, [y]), x : Ind, y : Ind}\n"
     ]
    }
   ],
   "source": [
    "T1 = RecType({'x' : Ind,\n",
    "              'e' : (Fun('v',Ind,RecType({'y' : Ind,\n",
    "                                          'e' : PType(run,['v'])})),['x'])})\n",
    "T2 = RecType({'y' : Ind,\n",
    "              'e' : (Fun('v',Ind,RecType({'x' : Ind,\n",
    "                                          'e' : PType(man,['v'])})),['y'])})\n",
    "print(\n",
    "    show(\n",
    "        T1.merge(T2)\n",
    "        )\n",
    "        )\n",
    "print(\n",
    "    show(\n",
    "        T1.amerge(T2)\n",
    "        )\n",
    "        )"
   ]
  },
  {
   "cell_type": "markdown",
   "metadata": {},
   "source": [
    "# String types"
   ]
  },
  {
   "cell_type": "code",
   "execution_count": 122,
   "metadata": {},
   "outputs": [
    {
     "name": "stdout",
     "output_type": "stream",
     "text": [
      "\"e1 e2\"\n"
     ]
    }
   ],
   "source": [
    "s = TTRString(['e1','e2'])\n",
    "print(show(s))"
   ]
  },
  {
   "cell_type": "code",
   "execution_count": 123,
   "metadata": {},
   "outputs": [
    {
     "name": "stdout",
     "output_type": "stream",
     "text": [
      "run(j)^run(m)\n",
      "True\n",
      "run(j)^run(m) is a logical type and cannot learn new conditions\n",
      "None\n",
      "\"_e8 _e9\"\n",
      "\"h128 h129\"\n"
     ]
    }
   ],
   "source": [
    "T = TTRStringType([PType(run,['j']),PType(run,['m'])])\n",
    "print(show(T))\n",
    "print(T.validate())\n",
    "ttrace()\n",
    "print(show(T.learn_witness_condition(lambda x: x)))\n",
    "nottrace()\n",
    "print(show(T.create()))\n",
    "print(show(T.create_hypobj()))\n"
   ]
  },
  {
   "cell_type": "code",
   "execution_count": 124,
   "metadata": {},
   "outputs": [
    {
     "data": {
      "text/plain": [
       "True"
      ]
     },
     "execution_count": 124,
     "metadata": {},
     "output_type": "execute_result"
    }
   ],
   "source": [
    "KPlusStringType(TTRStringType([RecTy])).query(TTRString([RecType({'e' : PType(run,['j'])}),\n",
    "                           RecType({'e' : PType(run,['m'])})]))\n"
   ]
  },
  {
   "cell_type": "code",
   "execution_count": 125,
   "metadata": {},
   "outputs": [
    {
     "name": "stdout",
     "output_type": "stream",
     "text": [
      "RecTy+\n",
      "True\n",
      "True\n",
      "RecTy+ is a logical type and cannot learn new conditions\n",
      "None\n",
      "_sigma0\n",
      "h130\n"
     ]
    }
   ],
   "source": [
    "T = KPlusStringType(TTRStringType([RecTy]))\n",
    "print(show(T))\n",
    "print(\n",
    "    show(\n",
    "        T.query(TTRString([RecType({'e' : PType(run,['j'])}),\n",
    "                           RecType({'e' : PType(run,['m'])})]))\n",
    "        )\n",
    "    )\n",
    "print(T.validate())\n",
    "ttrace()\n",
    "print(show(T.learn_witness_condition(lambda x: x)))\n",
    "nottrace()\n",
    "print(show(T.create()))\n",
    "print(show(T.create_hypobj()))\n"
   ]
  },
  {
   "cell_type": "code",
   "execution_count": 126,
   "metadata": {},
   "outputs": [
    {
     "name": "stdout",
     "output_type": "stream",
     "text": [
      "True\n",
      "False\n"
     ]
    }
   ],
   "source": [
    "T1 = TTRStringType([Re,Re])\n",
    "T2 = KPlusStringType(TTRStringType([Re]))\n",
    "print(show(T1.subtype_of(T2)))\n",
    "print(show(T2.subtype_of(T1)))"
   ]
  },
  {
   "cell_type": "code",
   "execution_count": 127,
   "metadata": {},
   "outputs": [
    {
     "name": "stdout",
     "output_type": "stream",
     "text": [
      "False\n",
      "True\n"
     ]
    }
   ],
   "source": [
    "T1 = TTRStringType([Re,Re])\n",
    "T2 = TTRStringType([RecType({'x' : Ind}), RecType({'y' : Ind})])\n",
    "print(show(T1.subtype_of(T2)))\n",
    "print(show(T2.subtype_of(T1)))"
   ]
  },
  {
   "cell_type": "code",
   "execution_count": 128,
   "metadata": {},
   "outputs": [
    {
     "name": "stdout",
     "output_type": "stream",
     "text": [
      "False\n",
      "True\n"
     ]
    }
   ],
   "source": [
    "T1 = KPlusStringType(TTRStringType([Re]))\n",
    "T2 = TTRStringType([RecType({'x' : Ind}), RecType({'y' : Ind})])\n",
    "print(show(T1.subtype_of(T2)))\n",
    "print(show(T2.subtype_of(T1)))"
   ]
  },
  {
   "cell_type": "code",
   "execution_count": 129,
   "metadata": {},
   "outputs": [
    {
     "name": "stdout",
     "output_type": "stream",
     "text": [
      "{x : Ind}^{y : Ind}\n"
     ]
    }
   ],
   "source": [
    "f = Fun('v',Ty,TTRStringType([RecType({'x' : 'v'}), RecType({'y' : 'v'})]))\n",
    "print(show(f.app(Ind)))"
   ]
  },
  {
   "cell_type": "code",
   "execution_count": 130,
   "metadata": {},
   "outputs": [
    {
     "name": "stdout",
     "output_type": "stream",
     "text": [
      "{x : Ind}+\n"
     ]
    }
   ],
   "source": [
    "f = Fun('v',Ty,KPlusStringType(TTRStringType([RecType({'x' : 'v'})])))\n",
    "print(show(f.app(Ind)))\n"
   ]
  },
  {
   "cell_type": "code",
   "execution_count": 131,
   "metadata": {},
   "outputs": [
    {
     "name": "stdout",
     "output_type": "stream",
     "text": [
      "{x : Ind}^{y : Ind}\n",
      "{x : Ind}^{y : Ind}\n"
     ]
    }
   ],
   "source": [
    "T1 = TTRStringType([RecType({'x' : Ind}), Re])\n",
    "T2 = TTRStringType([Re, RecType({'y' : Ind})])\n",
    "print(show(T1.merge(T2)))\n",
    "print(show(T1.amerge(T2)))"
   ]
  },
  {
   "cell_type": "code",
   "execution_count": 132,
   "metadata": {},
   "outputs": [
    {
     "name": "stdout",
     "output_type": "stream",
     "text": [
      "{x : Ind}^{x : (Ind&Ty)}\n",
      "{x : Ind}^{x : Ty}\n"
     ]
    }
   ],
   "source": [
    "T1 = TTRStringType([RecType({'x' : Ind}), RecType({'x' : Ind})])\n",
    "T2 = TTRStringType([Re, RecType({'x' : Ty})])\n",
    "print(show(T1.merge(T2)))\n",
    "print(show(T1.amerge(T2)))"
   ]
  },
  {
   "cell_type": "code",
   "execution_count": 133,
   "metadata": {},
   "outputs": [
    {
     "name": "stdout",
     "output_type": "stream",
     "text": [
      "{x : Ind}+\n",
      "{x : Ind}+\n"
     ]
    }
   ],
   "source": [
    "T1 = KPlusStringType(TTRStringType([RecType({'x':Ind})]))\n",
    "T2 = KPlusStringType(TTRStringType([Re]))\n",
    "print(show(T1.merge(T2)))\n",
    "print(show(T1.amerge(T2)))"
   ]
  },
  {
   "cell_type": "code",
   "execution_count": 134,
   "metadata": {},
   "outputs": [
    {
     "name": "stdout",
     "output_type": "stream",
     "text": [
      "RecTy+\n",
      "RecTy+\n"
     ]
    }
   ],
   "source": [
    "T1 = KPlusStringType(TTRStringType([RecTy]))\n",
    "T2 = KPlusStringType(TTRStringType([Ty]))\n",
    "print(show(T1.merge(T2)))\n",
    "print(show(T1.amerge(T2)))"
   ]
  },
  {
   "cell_type": "code",
   "execution_count": 135,
   "metadata": {},
   "outputs": [
    {
     "name": "stdout",
     "output_type": "stream",
     "text": [
      "{x : Ind}^{x : Ind}\n",
      "{x : Ind}^{x : Ind}\n"
     ]
    }
   ],
   "source": [
    "T1 = TTRStringType([RecType({'x' : Ind}), RecType({'x' : Ind})])\n",
    "T2 = KPlusStringType(TTRStringType([RecType({'x':Ind})]))\n",
    "print(show(T1.merge(T2)))\n",
    "print(show(T1.amerge(T2)))"
   ]
  },
  {
   "cell_type": "code",
   "execution_count": 136,
   "metadata": {},
   "outputs": [
    {
     "name": "stdout",
     "output_type": "stream",
     "text": [
      "({x : Ind}^{x : Ind}&Ty+)\n",
      "Ty+\n"
     ]
    }
   ],
   "source": [
    "T1 = TTRStringType([RecType({'x' : Ind}), RecType({'x' : Ind})])\n",
    "T2 = KPlusStringType(TTRStringType([Ty]))\n",
    "print(show(T1.merge(T2)))\n",
    "print(show(T1.amerge(T2)))\n"
   ]
  }
 ],
 "metadata": {
  "kernelspec": {
   "display_name": "Python 3",
   "language": "python",
   "name": "python3"
  },
  "language_info": {
   "codemirror_mode": {
    "name": "ipython",
    "version": 3
   },
   "file_extension": ".py",
   "mimetype": "text/x-python",
   "name": "python",
   "nbconvert_exporter": "python",
   "pygments_lexer": "ipython3",
   "version": "3.7.3"
  }
 },
 "nbformat": 4,
 "nbformat_minor": 2
}
