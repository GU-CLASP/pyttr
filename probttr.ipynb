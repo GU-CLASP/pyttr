{
 "cells": [
  {
   "cell_type": "code",
   "execution_count": 1,
   "metadata": {},
   "outputs": [],
   "source": [
    "import numpy as np\n",
    "from probttrtypes import Type, PConstraint, BType, PType, Pred,\\\n",
    "Possibility, MeetType, JoinType, RecType, Fun, matchlist\n",
    "from utils import show, show_latex, ttrace, nottrace, to_latex\n",
    "from records import Rec"
   ]
  },
  {
   "cell_type": "markdown",
   "metadata": {},
   "source": [
    "# Judging probabilities"
   ]
  },
  {
   "cell_type": "markdown",
   "metadata": {},
   "source": [
    "The witness cache in `probttr` is a pair whose first member is a list of objects and whose second member is a list of probabilities (actually probability constraints)"
   ]
  },
  {
   "cell_type": "code",
   "execution_count": 2,
   "metadata": {},
   "outputs": [
    {
     "name": "stdout",
     "output_type": "stream",
     "text": [
      "([], [])\n"
     ]
    }
   ],
   "source": [
    "T = Type()\n",
    "print(T.witness_cache)"
   ]
  },
  {
   "cell_type": "code",
   "execution_count": 3,
   "metadata": {},
   "outputs": [
    {
     "data": {
      "text/plain": [
       "'0.5'"
      ]
     },
     "execution_count": 3,
     "metadata": {},
     "output_type": "execute_result"
    }
   ],
   "source": [
    "show(T.judge('a',.5))"
   ]
  },
  {
   "cell_type": "code",
   "execution_count": 4,
   "metadata": {},
   "outputs": [
    {
     "data": {
      "text/plain": [
       "'([a], [0.5])'"
      ]
     },
     "execution_count": 4,
     "metadata": {},
     "output_type": "execute_result"
    }
   ],
   "source": [
    "show(T.witness_cache)"
   ]
  },
  {
   "cell_type": "code",
   "execution_count": 5,
   "metadata": {},
   "outputs": [
    {
     "data": {
      "text/plain": [
       "'0.6'"
      ]
     },
     "execution_count": 5,
     "metadata": {},
     "output_type": "execute_result"
    }
   ],
   "source": [
    "show(T.judge('a',.6))"
   ]
  },
  {
   "cell_type": "code",
   "execution_count": 6,
   "metadata": {},
   "outputs": [
    {
     "data": {
      "text/plain": [
       "'([a], [0.6])'"
      ]
     },
     "execution_count": 6,
     "metadata": {},
     "output_type": "execute_result"
    }
   ],
   "source": [
    "show(T.witness_cache)"
   ]
  },
  {
   "cell_type": "markdown",
   "metadata": {},
   "source": [
    "Adding an additional probability argument to `judge()` gives you a minimum and maximum probability constraint."
   ]
  },
  {
   "cell_type": "code",
   "execution_count": 7,
   "metadata": {},
   "outputs": [
    {
     "data": {
      "text/plain": [
       "'>=0.6'"
      ]
     },
     "execution_count": 7,
     "metadata": {},
     "output_type": "execute_result"
    }
   ],
   "source": [
    "show(T.judge('a',.6,1))"
   ]
  },
  {
   "cell_type": "code",
   "execution_count": 8,
   "metadata": {},
   "outputs": [
    {
     "data": {
      "text/latex": [
       "\\begin{equation}\\geq0.6\\&\\leq0.8\\end{equation}"
      ],
      "text/plain": [
       "<IPython.core.display.Latex object>"
      ]
     },
     "execution_count": 8,
     "metadata": {},
     "output_type": "execute_result"
    }
   ],
   "source": [
    "show_latex(T.judge('a',.6,.8))"
   ]
  },
  {
   "cell_type": "code",
   "execution_count": 9,
   "metadata": {},
   "outputs": [
    {
     "data": {
      "text/latex": [
       "\\begin{equation}\\leq0.6\\end{equation}"
      ],
      "text/plain": [
       "<IPython.core.display.Latex object>"
      ]
     },
     "execution_count": 9,
     "metadata": {},
     "output_type": "execute_result"
    }
   ],
   "source": [
    "show_latex(T.judge('a',0,.6))"
   ]
  },
  {
   "cell_type": "markdown",
   "metadata": {},
   "source": [
    "`judge(a,n,n)` is the same as `judge(a,n)`"
   ]
  },
  {
   "cell_type": "code",
   "execution_count": 10,
   "metadata": {},
   "outputs": [
    {
     "data": {
      "text/latex": [
       "\\begin{equation}0.6\\end{equation}"
      ],
      "text/plain": [
       "<IPython.core.display.Latex object>"
      ]
     },
     "execution_count": 10,
     "metadata": {},
     "output_type": "execute_result"
    }
   ],
   "source": [
    "show_latex(T.judge('a',.6,.6))"
   ]
  },
  {
   "cell_type": "markdown",
   "metadata": {},
   "source": [
    "Probabilities must be between 0 and 1.  This can be checked by using the method `validate()` on a probability constraint."
   ]
  },
  {
   "cell_type": "code",
   "execution_count": 11,
   "metadata": {},
   "outputs": [
    {
     "name": "stdout",
     "output_type": "stream",
     "text": [
      "-1.0 is less than 0.\n",
      "False\n",
      "0.6 is greater than 0.1\n",
      "False\n"
     ]
    }
   ],
   "source": [
    "print(T.judge('a',-1).validate())\n",
    "print(T.judge('a',.6,.1).validate())"
   ]
  },
  {
   "cell_type": "markdown",
   "metadata": {},
   "source": [
    "In contrast to non-probabilistic `pyttr` we can store a negative judgement in witness cache."
   ]
  },
  {
   "cell_type": "code",
   "execution_count": 12,
   "metadata": {},
   "outputs": [
    {
     "data": {
      "text/latex": [
       "\\begin{equation}\\langle [ \\text{a}], [ 0.0]\\rangle\\end{equation}"
      ],
      "text/plain": [
       "<IPython.core.display.Latex object>"
      ]
     },
     "execution_count": 12,
     "metadata": {},
     "output_type": "execute_result"
    }
   ],
   "source": [
    "T.judge('a',0)\n",
    "show_latex(T.witness_cache)"
   ]
  },
  {
   "cell_type": "markdown",
   "metadata": {},
   "source": [
    "For compatibility with non-probabilistic TTR:  `judge(a)` is the same as `judge(a,1)` (which is the same as `judge(a,1,1)`)."
   ]
  },
  {
   "cell_type": "code",
   "execution_count": 13,
   "metadata": {},
   "outputs": [
    {
     "data": {
      "text/plain": [
       "'1.0'"
      ]
     },
     "execution_count": 13,
     "metadata": {},
     "output_type": "execute_result"
    }
   ],
   "source": [
    "show(T.judge('a'))"
   ]
  },
  {
   "cell_type": "markdown",
   "metadata": {},
   "source": [
    "## Non-specific judging"
   ]
  },
  {
   "cell_type": "markdown",
   "metadata": {},
   "source": [
    "We can also make judgements about the probability that something belongs to a type using the method `judge_nonspec`."
   ]
  },
  {
   "cell_type": "code",
   "execution_count": 14,
   "metadata": {},
   "outputs": [
    {
     "data": {
      "text/plain": [
       "'>=0.3&<=0.4'"
      ]
     },
     "execution_count": 14,
     "metadata": {},
     "output_type": "execute_result"
    }
   ],
   "source": [
    "T_new = Type()\n",
    "T_new.judge_nonspec(.3,.4)\n",
    "show(T_new.prob_nonspec)"
   ]
  },
  {
   "cell_type": "markdown",
   "metadata": {},
   "source": [
    "# Querying probabilities"
   ]
  },
  {
   "cell_type": "markdown",
   "metadata": {},
   "source": [
    "## Querying unconditional probabilities"
   ]
  },
  {
   "cell_type": "markdown",
   "metadata": {},
   "source": [
    "If `a` is in the witness cache, `query(a)` returns the probability stored in the witness cache for `a`."
   ]
  },
  {
   "cell_type": "code",
   "execution_count": 15,
   "metadata": {},
   "outputs": [
    {
     "data": {
      "text/plain": [
       "'1.0'"
      ]
     },
     "execution_count": 15,
     "metadata": {},
     "output_type": "execute_result"
    }
   ],
   "source": [
    "show(T.query('a'))"
   ]
  },
  {
   "cell_type": "markdown",
   "metadata": {},
   "source": [
    "If `a` is not in the witness cache and we have no other way of computing a probability that `a` is a witness for `T`, then the probability range is `[0,1]`, i.e. $\\leq 1$.  This corresponds to returning an answer `Don't know` or `Undecided`."
   ]
  },
  {
   "cell_type": "code",
   "execution_count": 16,
   "metadata": {
    "scrolled": true
   },
   "outputs": [
    {
     "data": {
      "text/plain": [
       "'<=1.0'"
      ]
     },
     "execution_count": 16,
     "metadata": {},
     "output_type": "execute_result"
    }
   ],
   "source": [
    "show(T.query('b'))"
   ]
  },
  {
   "cell_type": "markdown",
   "metadata": {},
   "source": [
    "`Don't know` results are not added to the witness cache.  (This may or may not be a good idea.)"
   ]
  },
  {
   "cell_type": "code",
   "execution_count": 17,
   "metadata": {},
   "outputs": [
    {
     "data": {
      "text/plain": [
       "'([a], [1.0])'"
      ]
     },
     "execution_count": 17,
     "metadata": {},
     "output_type": "execute_result"
    }
   ],
   "source": [
    "show(T.witness_cache)"
   ]
  },
  {
   "cell_type": "markdown",
   "metadata": {},
   "source": [
    "Witness conditions are functions which return probability constraints. Here is type `Real` for real numbers, implemented as floating point decimals where the witness condition gives a categorical judgement for any object, that is it returns probability 1 or 0."
   ]
  },
  {
   "cell_type": "code",
   "execution_count": 18,
   "metadata": {
    "scrolled": true
   },
   "outputs": [
    {
     "data": {
      "text/plain": [
       "'1.0'"
      ]
     },
     "execution_count": 18,
     "metadata": {},
     "output_type": "execute_result"
    }
   ],
   "source": [
    "def RealClassifier(n):\n",
    "    if isinstance(n,float):\n",
    "        return PConstraint(1)\n",
    "    else:\n",
    "        return PConstraint(0)\n",
    "Real = Type('Real')\n",
    "Real.learn_witness_condition(RealClassifier)\n",
    "show(Real.query(.6))"
   ]
  },
  {
   "cell_type": "code",
   "execution_count": 19,
   "metadata": {},
   "outputs": [
    {
     "data": {
      "text/plain": [
       "'0.0'"
      ]
     },
     "execution_count": 19,
     "metadata": {},
     "output_type": "execute_result"
    }
   ],
   "source": [
    "show(Real.query('a'))"
   ]
  },
  {
   "cell_type": "code",
   "execution_count": 20,
   "metadata": {},
   "outputs": [
    {
     "data": {
      "text/plain": [
       "'([0.6, a], [1.0, 0.0])'"
      ]
     },
     "execution_count": 20,
     "metadata": {},
     "output_type": "execute_result"
    }
   ],
   "source": [
    "show(Real.witness_cache)"
   ]
  },
  {
   "cell_type": "markdown",
   "metadata": {},
   "source": [
    "Here's an example with a couple of witness conditions which return probability constraints.  `query(a)` returns the maximum obtained by the witness conditions for `a`.  Note that this need not be identical with either of the constraints returned by the individual witness conditions since the maximum of a collection of probability constraints is defined has as minimum the maximum of all the minima and as maximum the maximum of all the maxima.  (It could, of course, be done differently...)"
   ]
  },
  {
   "cell_type": "code",
   "execution_count": 21,
   "metadata": {},
   "outputs": [
    {
     "data": {
      "text/plain": [
       "'>=0.8&<=0.9'"
      ]
     },
     "execution_count": 21,
     "metadata": {},
     "output_type": "execute_result"
    }
   ],
   "source": [
    "T_at = Type('T_at')\n",
    "def Classifier_a(s):\n",
    "    if 'a' in s:\n",
    "        return PConstraint(.8,.9)\n",
    "    else:\n",
    "        return PConstraint(.1,.3)\n",
    "def Classifier_t(s):\n",
    "    if 't' in s:\n",
    "        return PConstraint(.2,.95)\n",
    "    else:\n",
    "        return PConstraint(.15,.7)\n",
    "T_at.learn_witness_condition(Classifier_a)\n",
    "T_at.learn_witness_condition(Classifier_t)\n",
    "show(T_at.query('a'))"
   ]
  },
  {
   "cell_type": "code",
   "execution_count": 22,
   "metadata": {},
   "outputs": [
    {
     "data": {
      "text/plain": [
       "'>=0.2&<=0.95'"
      ]
     },
     "execution_count": 22,
     "metadata": {},
     "output_type": "execute_result"
    }
   ],
   "source": [
    "show(T_at.query('t'))"
   ]
  },
  {
   "cell_type": "code",
   "execution_count": 23,
   "metadata": {},
   "outputs": [
    {
     "data": {
      "text/plain": [
       "'>=0.8&<=0.95'"
      ]
     },
     "execution_count": 23,
     "metadata": {},
     "output_type": "execute_result"
    }
   ],
   "source": [
    "show(T_at.query('at'))"
   ]
  },
  {
   "cell_type": "code",
   "execution_count": 24,
   "metadata": {},
   "outputs": [
    {
     "data": {
      "text/plain": [
       "'>=0.15&<=0.7'"
      ]
     },
     "execution_count": 24,
     "metadata": {},
     "output_type": "execute_result"
    }
   ],
   "source": [
    "show(T_at.query('b'))"
   ]
  },
  {
   "cell_type": "markdown",
   "metadata": {},
   "source": [
    "## Querying conditional probabilities"
   ]
  },
  {
   "cell_type": "markdown",
   "metadata": {},
   "source": [
    "Conditions are provided as a second argument to the `query()` method as a list each of whose members is _either_ a tuple, `(a,T)`, where `a` is an object and `T` is a type, _or_ a type.  The idea is that, for example, `T.query(a,[(b,T1),T2])` queries the probability that `a` is of type `T` given that `b` is of type `T1` and there is some witness for `T2`.  "
   ]
  },
  {
   "cell_type": "markdown",
   "metadata": {},
   "source": [
    "Consider a query `T.query(a,Conds)`.  If the probability that `a` is of type `T` does not depend on any of the conditions in `Conds` then what is returned is the same as `T.query(a)`, that is the unconditional probability. The default assumption is that probabilities are independent."
   ]
  },
  {
   "cell_type": "code",
   "execution_count": 25,
   "metadata": {},
   "outputs": [
    {
     "data": {
      "text/plain": [
       "'0.6'"
      ]
     },
     "execution_count": 25,
     "metadata": {},
     "output_type": "execute_result"
    }
   ],
   "source": [
    "T1 = Type()\n",
    "T2 = Type()\n",
    "T1.judge('a',.6)\n",
    "show(T1.query('a',[('b',T2)]))"
   ]
  },
  {
   "cell_type": "markdown",
   "metadata": {},
   "source": [
    "One kind of dependency between probabilities relates to subtyping in the type theory.  Suppose that $T_2\\sqsubseteq T_1$. Then $p(a:T_1|a:T_2)=1$. A limit case of this is where we have the same type judgement in the conditions as the one we are querying: $p(a:T|a:T)$, that is, the probability that $a$ is of type $T$ given that $a$ is of type $T$ has to be $1$, no matter what the unconditional probability is that $a$ is of type $T$."
   ]
  },
  {
   "cell_type": "code",
   "execution_count": 26,
   "metadata": {},
   "outputs": [
    {
     "data": {
      "text/plain": [
       "'1.0'"
      ]
     },
     "execution_count": 26,
     "metadata": {},
     "output_type": "execute_result"
    }
   ],
   "source": [
    "show(T1.query('a',[('a',T1)]))"
   ]
  },
  {
   "cell_type": "markdown",
   "metadata": {},
   "source": [
    "Let us now create a type `T3` which is a subtype of `T1`"
   ]
  },
  {
   "cell_type": "code",
   "execution_count": 27,
   "metadata": {},
   "outputs": [
    {
     "data": {
      "text/plain": [
       "True"
      ]
     },
     "execution_count": 27,
     "metadata": {},
     "output_type": "execute_result"
    }
   ],
   "source": [
    "T3 = Type()\n",
    "T1.learn_witness_condition(lambda x: T3.query(x))\n",
    "T3.subtype_of(T1)"
   ]
  },
  {
   "cell_type": "markdown",
   "metadata": {},
   "source": [
    "What is the probability that something is of type `T1` given that it is of type `T3`?"
   ]
  },
  {
   "cell_type": "code",
   "execution_count": 28,
   "metadata": {},
   "outputs": [
    {
     "data": {
      "text/plain": [
       "'1.0'"
      ]
     },
     "execution_count": 28,
     "metadata": {},
     "output_type": "execute_result"
    }
   ],
   "source": [
    "show(T1.query('b',[('b',T3)]))"
   ]
  },
  {
   "cell_type": "markdown",
   "metadata": {},
   "source": [
    "Dependent probabilities that are not related to subtyping have to be provided by an oracle which is given as a third argument to `query()`.  An oracle is a python function which takes three arguments:  an object, a type and a list of conditions of the kind  which is used as an argument to `query()`. For any such argument it returns either a probability constraint (e.g. `PConstraint(.6)`) or `None`.  As a python function the oracle may call on resources external to `pyttr`, for example, conditional probability tables or Bayesian networks.  A call `T.query(a,c,o)` where `c` does not contain `(a,TT)` where `TT` is a subtype of `T` will return `o(a,T,c)` if this is not `None`. Otherwise `T.query(a,c,o)` will return `T.query(a)` (the unconditional probability).  If `c` _does_ contain `(a,TT)` where `TT` is a subtype of `T`, then the oracle will be ignored and `T.query(a,c,o)` will return `PConstraint(1)`."
   ]
  },
  {
   "cell_type": "markdown",
   "metadata": {},
   "source": [
    "As an example we define a trivial oracle."
   ]
  },
  {
   "cell_type": "code",
   "execution_count": 29,
   "metadata": {},
   "outputs": [],
   "source": [
    "def SillyOracle(a,T,c):\n",
    "    if a is 'a'and T is T1 and ('b',T2) in c:\n",
    "        return PConstraint(.7,.8)\n",
    "    else:\n",
    "        return"
   ]
  },
  {
   "cell_type": "markdown",
   "metadata": {},
   "source": [
    "Using the oracle."
   ]
  },
  {
   "cell_type": "code",
   "execution_count": 30,
   "metadata": {},
   "outputs": [
    {
     "data": {
      "text/plain": [
       "'>=0.7&<=0.8'"
      ]
     },
     "execution_count": 30,
     "metadata": {},
     "output_type": "execute_result"
    }
   ],
   "source": [
    "show(T1.query('a',[('b',T2)],SillyOracle))"
   ]
  },
  {
   "cell_type": "markdown",
   "metadata": {},
   "source": [
    "The oracle is not defined (returns `None`) and the result is the unconditional probability."
   ]
  },
  {
   "cell_type": "code",
   "execution_count": 31,
   "metadata": {},
   "outputs": [
    {
     "data": {
      "text/plain": [
       "'0.6'"
      ]
     },
     "execution_count": 31,
     "metadata": {},
     "output_type": "execute_result"
    }
   ],
   "source": [
    "show(T1.query('a',[T2],SillyOracle))"
   ]
  },
  {
   "cell_type": "markdown",
   "metadata": {},
   "source": [
    "The oracle is defined but is ignored because of the subtyping condition."
   ]
  },
  {
   "cell_type": "code",
   "execution_count": 32,
   "metadata": {},
   "outputs": [
    {
     "data": {
      "text/plain": [
       "'1.0'"
      ]
     },
     "execution_count": 32,
     "metadata": {},
     "output_type": "execute_result"
    }
   ],
   "source": [
    "show(T1.query('a',[('b',T2),('a',T3)],SillyOracle))"
   ]
  },
  {
   "cell_type": "markdown",
   "metadata": {},
   "source": [
    "The probability that $a$ is to the left of $b$ is the same as the probability the $b$ is to the right of $a$."
   ]
  },
  {
   "cell_type": "code",
   "execution_count": 33,
   "metadata": {},
   "outputs": [
    {
     "name": "stdout",
     "output_type": "stream",
     "text": [
      "\n",
      "M:\n",
      "_____________________________________________\n",
      "right(b, a): [(s1, 0.6)]\n",
      "left(a, b): [(s2, 0.7)]\n",
      "_____________________________________________\n",
      "\n",
      "0.6\n",
      "0.7\n",
      "\n",
      "M:\n",
      "_____________________________________________\n",
      "right(b, a): [(s1, 0.6), (s2, 0.7)]\n",
      "left(a, b): [(s2, 0.7), (s1, 0.6)]\n",
      "_____________________________________________\n",
      "\n"
     ]
    }
   ],
   "source": [
    "Ind = BType('Ind')\n",
    "Ind.judge('a')\n",
    "Ind.judge('b')\n",
    "left = Pred('left',[Ind,Ind])\n",
    "right = Pred('right',[Ind,Ind])\n",
    "left.learn_witness_fun(lambda args: PType(right,[args[1],args[0]]))\n",
    "right.learn_witness_fun(lambda args: PType(left,[args[1],args[0]]))\n",
    "left_a_b = PType(left,['a','b'])\n",
    "right_b_a = PType(right,['b','a'])\n",
    "M = Possibility('M')\n",
    "right_b_a.in_poss(M).judge('s1',.6)\n",
    "left_a_b.in_poss(M).judge('s2',.7)\n",
    "print(show(M))\n",
    "print(show(left_a_b.in_poss(M).query('s1')))\n",
    "print(show(right_b_a.in_poss(M).query('s2')))\n",
    "print(show(M))"
   ]
  },
  {
   "cell_type": "markdown",
   "metadata": {},
   "source": [
    "What happens if we revise our original judgement?  This shows the downside of caching the result of an inference in a dynamic environment where a premise for the inference has changed since we last checked.  Below we rejudge `left(a,b)` to have probability `.3` in `s2`.  However, when we query `right(b,a)` in `s2`, we still have the old value we found with the earlier judgement for `left(a,b)`."
   ]
  },
  {
   "cell_type": "code",
   "execution_count": 34,
   "metadata": {},
   "outputs": [
    {
     "name": "stdout",
     "output_type": "stream",
     "text": [
      "\n",
      "M:\n",
      "_____________________________________________\n",
      "right(b, a): [(s1, 0.6), (s2, 0.7)]\n",
      "left(a, b): [(s2, 0.3), (s1, 0.6)]\n",
      "_____________________________________________\n",
      "\n",
      "0.7\n",
      "\n",
      "M:\n",
      "_____________________________________________\n",
      "right(b, a): [(s1, 0.6), (s2, 0.7)]\n",
      "left(a, b): [(s2, 0.3), (s1, 0.6)]\n",
      "_____________________________________________\n",
      "\n"
     ]
    }
   ],
   "source": [
    "left_a_b.in_poss(M).judge('s2',.3)\n",
    "print(show(M))\n",
    "print(show(right_b_a.in_poss(M).query('s2')))\n",
    "print(show(M))"
   ]
  },
  {
   "cell_type": "markdown",
   "metadata": {},
   "source": [
    "This is clearly the wrong result for the new circumstances.  A way around this is to `forget()` the probability for `s2` before calling `query()`.  Of course, knowing what needs to be forgotten is a delicate problem related to work on belief revision.  A good strategy is perhaps to always forget before querying when there is any possibility that something relevant might have changed.  `forget()` returns the old probability it found just in case you want to save it and reinstate it later if you are unable to compute a new probability."
   ]
  },
  {
   "cell_type": "code",
   "execution_count": 35,
   "metadata": {},
   "outputs": [
    {
     "name": "stdout",
     "output_type": "stream",
     "text": [
      "0.7\n",
      "\n",
      "M:\n",
      "_____________________________________________\n",
      "right(b, a): [(s1, 0.6)]\n",
      "left(a, b): [(s2, 0.3), (s1, 0.6)]\n",
      "_____________________________________________\n",
      "\n",
      "0.3\n",
      "\n",
      "M:\n",
      "_____________________________________________\n",
      "right(b, a): [(s1, 0.6), (s2, 0.3)]\n",
      "left(a, b): [(s2, 0.3), (s1, 0.6)]\n",
      "_____________________________________________\n",
      "\n"
     ]
    }
   ],
   "source": [
    "print(show(right_b_a.in_poss(M).forget('s2')))\n",
    "print(show(M))\n",
    "print(show(right_b_a.in_poss(M).query('s2')))\n",
    "print(show(M))"
   ]
  },
  {
   "cell_type": "markdown",
   "metadata": {},
   "source": [
    "## Non-specific querying"
   ]
  },
  {
   "cell_type": "markdown",
   "metadata": {},
   "source": [
    "The query `T.query_nonspec()` asks for the probability that there is something of type `T`, $p(T)$ in the notation of probabilistic TTR.  If something has been judged to be of type `T` with probability 1, then `T.query_nonspec()` returns probability 1."
   ]
  },
  {
   "cell_type": "code",
   "execution_count": 36,
   "metadata": {},
   "outputs": [
    {
     "data": {
      "text/plain": [
       "'1.0'"
      ]
     },
     "execution_count": 36,
     "metadata": {},
     "output_type": "execute_result"
    }
   ],
   "source": [
    "show(Ind.query_nonspec())"
   ]
  },
  {
   "cell_type": "markdown",
   "metadata": {},
   "source": [
    "Alternatively, if there is nothing in the witness cache but we have made a non-specific judgement using `judge_nonspec`, then the result of that non-specific judgement is returned."
   ]
  },
  {
   "cell_type": "code",
   "execution_count": 37,
   "metadata": {},
   "outputs": [
    {
     "data": {
      "text/plain": [
       "'>=0.3&<=0.4'"
      ]
     },
     "execution_count": 37,
     "metadata": {},
     "output_type": "execute_result"
    }
   ],
   "source": [
    "show(T_new.query_nonspec())"
   ]
  },
  {
   "cell_type": "markdown",
   "metadata": {},
   "source": [
    "If no non-specific judgement has been made, then what is returned is the disjunctive probability of all the probabilities in the witness cache."
   ]
  },
  {
   "cell_type": "code",
   "execution_count": 38,
   "metadata": {},
   "outputs": [
    {
     "name": "stdout",
     "output_type": "stream",
     "text": [
      "\n",
      "M:\n",
      "_____________________________________________\n",
      "right(b, a): [(s1, 0.6), (s2, 0.3)]\n",
      "left(a, b): [(s2, 0.3), (s1, 0.6)]\n",
      "_____________________________________________\n",
      "\n",
      "0.72\n",
      "0.72\n",
      "\n",
      "M:\n",
      "_____________________________________________\n",
      "right(b, a): [(s1, 0.6), (s2, 0.3)]\n",
      "left(a, b): [(s2, 0.3), (s1, 0.6)]\n",
      "_____________________________________________\n",
      "\n"
     ]
    }
   ],
   "source": [
    "print(show(M))\n",
    "print(show(right_b_a.in_poss(M).query_nonspec()))\n",
    "print(show(left_a_b.in_poss(M).query_nonspec()))\n",
    "print(show(M))"
   ]
  },
  {
   "cell_type": "markdown",
   "metadata": {},
   "source": [
    "If a non-specific judgement has been made and there is a non-empty witness cache, then what is returned is the maximum of the non-specific judgement and the disjunctive probability of the probabilities in the witness cache.  Suppose, for example, that I make a judgement that there is .5 probability that there is something of type `Ind`, contrary to what is represented in the witness cache which shows objects with probability 1.  Then the result from the witness cache takes precedence.  If on the other hand I have made a judgement that there is certain likelihood of something being of a certain type and this exceeds the evidence represented in the witness cache, then the non-specific judgement is returned."
   ]
  },
  {
   "cell_type": "code",
   "execution_count": 39,
   "metadata": {},
   "outputs": [
    {
     "name": "stdout",
     "output_type": "stream",
     "text": [
      "1.0\n",
      ">=0.3&<=0.4\n"
     ]
    }
   ],
   "source": [
    "Ind.judge_nonspec(.5)\n",
    "print(show(Ind.query_nonspec()))\n",
    "T_new.judge('a',.1)\n",
    "print(show(T_new.query_nonspec()))"
   ]
  },
  {
   "cell_type": "markdown",
   "metadata": {},
   "source": [
    "Non-specific queries can also be conditional.  Here we show the probability that there is some situation in the type `right(b,a)` (i.e. that it is true that `b` is to the right of `a`) given that `s3` is a witness of `left(a,b)`."
   ]
  },
  {
   "cell_type": "code",
   "execution_count": 40,
   "metadata": {},
   "outputs": [
    {
     "name": "stdout",
     "output_type": "stream",
     "text": [
      "1.0\n",
      "\n",
      "M:\n",
      "_____________________________________________\n",
      "right(b, a): [(s1, 0.6), (s2, 0.3)]\n",
      "left(a, b): [(s2, 0.3), (s1, 0.6)]\n",
      "_____________________________________________\n",
      "\n"
     ]
    }
   ],
   "source": [
    "print(show(right_b_a.in_poss(M).query_nonspec([('s3',left_a_b.in_poss(M))])))\n",
    "print(show(M))"
   ]
  },
  {
   "cell_type": "markdown",
   "metadata": {},
   "source": [
    "Below we show the probability that there is some witness for the type `right(b,a)`, given that there is some witness for the type `left(a,b)`."
   ]
  },
  {
   "cell_type": "code",
   "execution_count": 41,
   "metadata": {},
   "outputs": [
    {
     "name": "stdout",
     "output_type": "stream",
     "text": [
      "1.0\n",
      "\n",
      "M:\n",
      "_____________________________________________\n",
      "right(b, a): [(s1, 0.6), (s2, 0.3)]\n",
      "left(a, b): [(s2, 0.3), (s1, 0.6)]\n",
      "_____________________________________________\n",
      "\n"
     ]
    }
   ],
   "source": [
    "print(show(right_b_a.in_poss(M).query_nonspec([left_a_b.in_poss(M)])))\n",
    "print(show(M))"
   ]
  },
  {
   "cell_type": "markdown",
   "metadata": {},
   "source": [
    "If the type in the conditions is not a subtype of the type being queried (in the case below because it refers to a different model), then what is returned is the unconditional probability, unless we provide a relevant oracle."
   ]
  },
  {
   "cell_type": "code",
   "execution_count": 42,
   "metadata": {},
   "outputs": [
    {
     "name": "stdout",
     "output_type": "stream",
     "text": [
      "0.72\n"
     ]
    }
   ],
   "source": [
    "M1 = Possibility('M1')\n",
    "print(show(right_b_a.in_poss(M).query_nonspec([left_a_b.in_poss(M1)])))"
   ]
  },
  {
   "cell_type": "markdown",
   "metadata": {},
   "source": [
    "## Meet types"
   ]
  },
  {
   "cell_type": "markdown",
   "metadata": {},
   "source": [
    "If we judge that the probability of `a` being of type `MeetType(T1,T2)` is `1`, then we also judge the probability of `a` being of `T1` and the probability of `a` being of `T2` to be `1`."
   ]
  },
  {
   "cell_type": "code",
   "execution_count": 43,
   "metadata": {},
   "outputs": [
    {
     "name": "stdout",
     "output_type": "stream",
     "text": [
      "1.0\n",
      "1.0\n"
     ]
    }
   ],
   "source": [
    "Tleft = Type()\n",
    "Tright = Type()\n",
    "Tm = MeetType(Tleft,Tright)\n",
    "Tm.judge('a')\n",
    "print(show(Tleft.query('a')))\n",
    "print(show(Tright.query('a')))"
   ]
  },
  {
   "cell_type": "markdown",
   "metadata": {},
   "source": [
    "Otherwise, we do not currently draw any conclusions about the probabilities for the component types."
   ]
  },
  {
   "cell_type": "code",
   "execution_count": 44,
   "metadata": {},
   "outputs": [
    {
     "name": "stdout",
     "output_type": "stream",
     "text": [
      "<=1.0\n",
      "<=1.0\n",
      ">=0.6&<=0.8\n"
     ]
    }
   ],
   "source": [
    "Tleft1 = Type()\n",
    "Tright1 = Type()\n",
    "Tm1 = MeetType(Tleft1,Tright1)\n",
    "Tm1.judge('a',.6,.8)\n",
    "print(show(Tleft1.query('a')))\n",
    "print(show(Tright1.query('a')))\n",
    "print(show(Tm1.query('a')))"
   ]
  },
  {
   "cell_type": "markdown",
   "metadata": {},
   "source": [
    "The user may wish to decide that the `judge` method is not to be used with meet types, only `query`, that is, that the `judge` method is restricted to basic types.  However, making judgements about join types may be useful.  See below."
   ]
  },
  {
   "cell_type": "markdown",
   "metadata": {},
   "source": [
    "Similar remarks hold for non-specific judgements."
   ]
  },
  {
   "cell_type": "code",
   "execution_count": 45,
   "metadata": {},
   "outputs": [
    {
     "name": "stdout",
     "output_type": "stream",
     "text": [
      "1.0\n",
      "1.0\n",
      "<=1.0\n",
      "<=1.0\n",
      ">=0.6&<=0.8\n"
     ]
    }
   ],
   "source": [
    "Tleft2 = Type()\n",
    "Tright2 = Type()\n",
    "Tm2 = MeetType(Tleft2,Tright2)\n",
    "Tm2.judge_nonspec()\n",
    "print(show(Tleft2.query_nonspec()))\n",
    "print(show(Tright2.query_nonspec()))\n",
    "Tleft3 = Type()\n",
    "Tright3 = Type()\n",
    "Tm3 = MeetType(Tleft3,Tright3)\n",
    "Tm3.judge_nonspec(.6,.8)\n",
    "print(show(Tleft3.query_nonspec()))\n",
    "print(show(Tright3.query_nonspec()))\n",
    "print(show(Tm3.query_nonspec()))"
   ]
  },
  {
   "cell_type": "markdown",
   "metadata": {},
   "source": [
    "If an object is not in the witness cache of a meet type then the conjunctive probability of the values returned for the two components is returned by the `query()` method."
   ]
  },
  {
   "cell_type": "code",
   "execution_count": 46,
   "metadata": {},
   "outputs": [
    {
     "name": "stdout",
     "output_type": "stream",
     "text": [
      "<=1.0\n"
     ]
    },
    {
     "data": {
      "text/plain": [
       "'<=0.6'"
      ]
     },
     "execution_count": 46,
     "metadata": {},
     "output_type": "execute_result"
    }
   ],
   "source": [
    "Tleft3.judge('a',.6)\n",
    "print(show(Tright3.query('a')))\n",
    "show(Tm3.query('a'))"
   ]
  },
  {
   "cell_type": "markdown",
   "metadata": {},
   "source": [
    "If an object is in the witness cache then the probability stored there will be returned, even though there may be conflicting evidence in the two components.  In order to get the new value we need to `forget()`"
   ]
  },
  {
   "cell_type": "code",
   "execution_count": 47,
   "metadata": {},
   "outputs": [
    {
     "name": "stdout",
     "output_type": "stream",
     "text": [
      "<=0.6\n",
      "0.18\n"
     ]
    }
   ],
   "source": [
    "Tright3.judge('a',.3)\n",
    "print(show(Tm3.query('a')))\n",
    "Tm3.forget('a')\n",
    "print(show(Tm3.query('a')))"
   ]
  },
  {
   "cell_type": "markdown",
   "metadata": {},
   "source": [
    "The computation of conjunctive probability uses an adaptation of the Kolmogorov formula for conjunction: $p(a:T_1\\wedge T_2) = p(a:T_1)p(a:T_2\\mid a:T_1)$, as given in Cooper et al. (2015).  This involves a conditional probability and therefore in the implementation and oracle argument creating a dependence between the two types will make a difference to the outcome when querying a meet type."
   ]
  },
  {
   "cell_type": "code",
   "execution_count": 48,
   "metadata": {},
   "outputs": [
    {
     "name": "stdout",
     "output_type": "stream",
     "text": [
      ">=0.42&<=0.48\n",
      "0.0\n"
     ]
    }
   ],
   "source": [
    "def Oracle1(a,T,c):\n",
    "    if a is'a'and T is Tright3 and ('a',Tleft3) in c:\n",
    "        return PConstraint(.7,.8)\n",
    "def Oracle2(a,T,c):\n",
    "    if a is'a'and T is Tright3 and ('a',Tleft3) in c:\n",
    "        return PConstraint(0)\n",
    "Tm3.forget('a')\n",
    "print(show(Tm3.query('a',oracle=Oracle1)))\n",
    "Tm3.forget('a')\n",
    "print(show(Tm3.query('a',oracle=Oracle2)))"
   ]
  },
  {
   "cell_type": "markdown",
   "metadata": {},
   "source": [
    "Conditional probabilities can also be queried for meet types.  "
   ]
  },
  {
   "cell_type": "code",
   "execution_count": 49,
   "metadata": {},
   "outputs": [
    {
     "name": "stdout",
     "output_type": "stream",
     "text": [
      "1.0\n"
     ]
    }
   ],
   "source": [
    "Tm3.forget('a')\n",
    "print(show(Tm3.query('a',[('a',Tleft3),('a',Tright3)])))"
   ]
  },
  {
   "cell_type": "markdown",
   "metadata": {},
   "source": [
    "The above example shows the need for witness conditions which pass the conditions and oracle arguments to components of the type. The witness condition for meet types is, schematically, \n",
    "`lambda a,c,oracle: ConjProb([(a,<left>),(a,<right>)],c,oracle)`.  (As in non-probabilistic TTR, meet types and other \"logical types\" cannot learn new witness conditions.)  Note that this witness condition has three arguments so that it can pass the conditions, `c`, and the oracle to the function `ConjProb` which computes the conjunctive probability.  Witness conditions in the `probttr` implementation can have one to three arguments and will be applied to the arguments provided to the `query` method from which they are called:  the object, `a`, being queried for one argument, `a` and the conditions, `c`, for two arguments and `a`, `c` and the oracle for three arguments."
   ]
  },
  {
   "cell_type": "markdown",
   "metadata": {},
   "source": [
    "## Join types"
   ]
  },
  {
   "cell_type": "markdown",
   "metadata": {},
   "source": [
    "Join types work like meet types _mutatis mutandis_.  Schematically, the witness condition is `lambda a,c,oracle: DisjProb([(a,<left>),(a,<right>)],c,oracle)` and no new witness conditions can be learnt.  If we judge something to have 0 probability of being of a join type, then we judge it to have 0 probability of being of the two component types."
   ]
  },
  {
   "cell_type": "code",
   "execution_count": 50,
   "metadata": {},
   "outputs": [
    {
     "name": "stdout",
     "output_type": "stream",
     "text": [
      "0.0\n",
      "0.0\n"
     ]
    }
   ],
   "source": [
    "Tleftd = Type()\n",
    "Trightd = Type()\n",
    "Tmd = JoinType(Tleftd,Trightd)\n",
    "Tmd.judge('a',0)\n",
    "print(show(Tleftd.query('a')))\n",
    "print(show(Trightd.query('a')))"
   ]
  },
  {
   "cell_type": "markdown",
   "metadata": {},
   "source": [
    "Similarly for non-specific judgements."
   ]
  },
  {
   "cell_type": "code",
   "execution_count": 51,
   "metadata": {},
   "outputs": [
    {
     "name": "stdout",
     "output_type": "stream",
     "text": [
      "0.0\n",
      "0.0\n",
      "<=1.0\n",
      "<=1.0\n",
      ">=0.6&<=0.8\n"
     ]
    }
   ],
   "source": [
    "Tleft2d = Type()\n",
    "Tright2d = Type()\n",
    "Tm2d = JoinType(Tleft2d,Tright2d)\n",
    "Tm2d.judge_nonspec(0)\n",
    "print(show(Tleft2d.query_nonspec()))\n",
    "print(show(Tright2d.query_nonspec()))\n",
    "Tleft3d = Type()\n",
    "Tright3d = Type()\n",
    "Tm3d = JoinType(Tleft3,Tright3)\n",
    "Tm3d.judge_nonspec(.6,.8)\n",
    "print(show(Tleft3d.query_nonspec()))\n",
    "print(show(Tright3d.query_nonspec()))\n",
    "print(show(Tm3d.query_nonspec()))"
   ]
  },
  {
   "cell_type": "markdown",
   "metadata": {},
   "source": [
    "## Record types"
   ]
  },
  {
   "cell_type": "markdown",
   "metadata": {},
   "source": [
    "The probability that a record, $r$, is of a record type, $T$, is the conjunctive probability of the probabilities that the objects in the fields of $r$ are of the types in the correspondingly labelled types of $T$.  If there is a label in $T$ which is not in $r$ then the probability that $r$ is of type $T$ is 0 (also if $r$ is not a record at all then the probability is 0)."
   ]
  },
  {
   "cell_type": "markdown",
   "metadata": {},
   "source": [
    "A simple non-dependent record type."
   ]
  },
  {
   "cell_type": "code",
   "execution_count": 52,
   "metadata": {},
   "outputs": [
    {
     "name": "stdout",
     "output_type": "stream",
     "text": [
      "0.06\n"
     ]
    }
   ],
   "source": [
    "Tf1 = Type()\n",
    "Tf2 = Type()\n",
    "Tr1 = RecType({'l1':Tf1,'l2':Tf2})\n",
    "Tf1.judge('a',.3)\n",
    "Tf2.judge('b',.2)\n",
    "r1 = Rec({'l1':'a','l2':'b'})\n",
    "print(show(Tr1.query(r1)))"
   ]
  },
  {
   "cell_type": "markdown",
   "metadata": {},
   "source": [
    "A simple dependent record type."
   ]
  },
  {
   "cell_type": "code",
   "execution_count": 53,
   "metadata": {},
   "outputs": [
    {
     "data": {
      "text/latex": [
       "\\begin{equation}\\left[\\begin{array}{lcl}\n",
       "\\text{x} &:& \\textit{Ind}\\\\\n",
       "\\text{e} &:& \\langle \\lambda v:\\textit{Ind}\\ .\\ \\text{dog}(v), \\langle \\text{x}\\rangle\\rangle\n",
       "\\end{array}\\right]\\end{equation}"
      ],
      "text/plain": [
       "<IPython.core.display.Latex object>"
      ]
     },
     "execution_count": 53,
     "metadata": {},
     "output_type": "execute_result"
    }
   ],
   "source": [
    "dog = Pred('dog',[Ind])\n",
    "a_dog = RecType({'x':Ind,'e':(Fun('v', Ind, PType(dog,['v'])),['x'])})\n",
    "show_latex(a_dog)"
   ]
  },
  {
   "cell_type": "code",
   "execution_count": 54,
   "metadata": {},
   "outputs": [
    {
     "data": {
      "text/plain": [
       "'0.7'"
      ]
     },
     "execution_count": 54,
     "metadata": {},
     "output_type": "execute_result"
    }
   ],
   "source": [
    "Ind.judge('d')\n",
    "PType(dog,['d']).judge('s1',.7)\n",
    "r2 = Rec({'x':'d','e':'s1','z':'other_stuff'})\n",
    "show(a_dog.query(r2))"
   ]
  },
  {
   "cell_type": "markdown",
   "metadata": {},
   "source": [
    "A simple record type with a path leading to another record type"
   ]
  },
  {
   "cell_type": "code",
   "execution_count": 55,
   "metadata": {},
   "outputs": [
    {
     "data": {
      "text/latex": [
       "\\begin{equation}\\left[\\begin{array}{lcl}\n",
       "\\text{x} &:& \\left[\\begin{array}{lcl}\n",
       "\\text{x} &:& \\textit{Ind}\\\\\n",
       "\\text{e} &:& \\langle \\lambda v:\\textit{Ind}\\ .\\ \\text{dog}(v), \\langle \\text{x}\\rangle\\rangle\n",
       "\\end{array}\\right]\n",
       "\\end{array}\\right]\\end{equation}"
      ],
      "text/plain": [
       "<IPython.core.display.Latex object>"
      ]
     },
     "execution_count": 55,
     "metadata": {},
     "output_type": "execute_result"
    }
   ],
   "source": [
    "Tr2 = RecType({'x':a_dog})\n",
    "show_latex(Tr2)"
   ]
  },
  {
   "cell_type": "code",
   "execution_count": 56,
   "metadata": {},
   "outputs": [
    {
     "data": {
      "text/plain": [
       "'0.7'"
      ]
     },
     "execution_count": 56,
     "metadata": {},
     "output_type": "execute_result"
    }
   ],
   "source": [
    "r3 = Rec({'x':r2})\n",
    "show(Tr2.query(r3))"
   ]
  },
  {
   "cell_type": "markdown",
   "metadata": {},
   "source": [
    "A slightly more complex record type."
   ]
  },
  {
   "cell_type": "code",
   "execution_count": 57,
   "metadata": {},
   "outputs": [
    {
     "data": {
      "text/latex": [
       "\\begin{equation}\\left[\\begin{array}{lcl}\n",
       "\\text{x} &:& \\left[\\begin{array}{lcl}\n",
       "\\text{x} &:& \\textit{Ind}\\\\\n",
       "\\text{e} &:& \\langle \\lambda v:\\textit{Ind}\\ .\\ \\text{dog}(v), \\langle \\text{x}\\rangle\\rangle\n",
       "\\end{array}\\right]\\\\\n",
       "\\text{e} &:& \\langle \\lambda v:\\textit{Ind}\\ .\\ \\text{bark}(v), \\langle \\text{x.x}\\rangle\\rangle\n",
       "\\end{array}\\right]\\end{equation}"
      ],
      "text/plain": [
       "<IPython.core.display.Latex object>"
      ]
     },
     "execution_count": 57,
     "metadata": {},
     "output_type": "execute_result"
    }
   ],
   "source": [
    "bark = Pred('bark',[Ind])\n",
    "a_dog_bark = RecType({'x':a_dog,'e':(Fun('v',Ind,PType(bark,['v'])),['x.x'])})\n",
    "show_latex(a_dog_bark)"
   ]
  },
  {
   "cell_type": "code",
   "execution_count": 58,
   "metadata": {},
   "outputs": [
    {
     "data": {
      "text/latex": [
       "\\begin{equation}\\left[\\begin{array}{rcl}\n",
       "\\text{x} &=& \\left[\\begin{array}{rcl}\n",
       "\\text{x} &=& \\text{d}\\\\\n",
       "\\text{e} &=& \\text{s}_{\\text{1}}\\\\\n",
       "\\text{z} &=& \\text{other}_{\\text{stuff}}\n",
       "\\end{array}\\right]\\\\\n",
       "\\text{e} &=& \\text{s}_{\\text{2}}\n",
       "\\end{array}\\right]\\end{equation}"
      ],
      "text/plain": [
       "<IPython.core.display.Latex object>"
      ]
     },
     "execution_count": 58,
     "metadata": {},
     "output_type": "execute_result"
    }
   ],
   "source": [
    "PType(bark,['d']).judge('s2',.3)\n",
    "r4 = Rec({'x':r2,'e':'s2'})\n",
    "show_latex(r4)"
   ]
  },
  {
   "cell_type": "code",
   "execution_count": 59,
   "metadata": {},
   "outputs": [
    {
     "data": {
      "text/plain": [
       "'0.21'"
      ]
     },
     "execution_count": 59,
     "metadata": {},
     "output_type": "execute_result"
    }
   ],
   "source": [
    "show(a_dog_bark.query(r4))"
   ]
  },
  {
   "cell_type": "markdown",
   "metadata": {},
   "source": [
    "Conditional probabilities."
   ]
  },
  {
   "cell_type": "code",
   "execution_count": 60,
   "metadata": {},
   "outputs": [
    {
     "data": {
      "text/plain": [
       "'0.7'"
      ]
     },
     "execution_count": 60,
     "metadata": {},
     "output_type": "execute_result"
    }
   ],
   "source": [
    "show(a_dog_bark.query(r4,[('s2',PType(bark,['d']))]))"
   ]
  },
  {
   "cell_type": "code",
   "execution_count": 61,
   "metadata": {},
   "outputs": [
    {
     "data": {
      "text/plain": [
       "'1.0'"
      ]
     },
     "execution_count": 61,
     "metadata": {},
     "output_type": "execute_result"
    }
   ],
   "source": [
    "show(a_dog_bark.query(r4,[('s1',PType(dog,['d'])),('s2',PType(bark,['d']))]))"
   ]
  },
  {
   "cell_type": "markdown",
   "metadata": {},
   "source": [
    "Non-specific queries."
   ]
  },
  {
   "cell_type": "code",
   "execution_count": 62,
   "metadata": {},
   "outputs": [
    {
     "data": {
      "text/plain": [
       "'0.21'"
      ]
     },
     "execution_count": 62,
     "metadata": {},
     "output_type": "execute_result"
    }
   ],
   "source": [
    "show(a_dog_bark.query_nonspec())"
   ]
  },
  {
   "cell_type": "code",
   "execution_count": 63,
   "metadata": {},
   "outputs": [
    {
     "data": {
      "text/plain": [
       "'([{x = {x = d, e = s1, z = other_stuff}, e = s2}], [0.21])'"
      ]
     },
     "execution_count": 63,
     "metadata": {},
     "output_type": "execute_result"
    }
   ],
   "source": [
    "show(a_dog_bark.witness_cache)"
   ]
  },
  {
   "cell_type": "code",
   "execution_count": 64,
   "metadata": {},
   "outputs": [
    {
     "name": "stdout",
     "output_type": "stream",
     "text": [
      "[[0 1 3 0 0]\n",
      " [0 2 2 2 0]\n",
      " [0 0 0 1 0]\n",
      " [3 2 0 0 0]]\n",
      "[0 1 3 0 0]\n"
     ]
    }
   ],
   "source": [
    "import numpy as np\n",
    "a=np.random.choice([0,1,2,3],(4,5),True,[.7,.1,.1,.1])\n",
    "print(a)\n",
    "print(a[0])"
   ]
  },
  {
   "cell_type": "code",
   "execution_count": 65,
   "metadata": {},
   "outputs": [
    {
     "data": {
      "text/plain": [
       "array([], shape=(0, 1, 2, 3), dtype=float64)"
      ]
     },
     "execution_count": 65,
     "metadata": {},
     "output_type": "execute_result"
    }
   ],
   "source": [
    "np.random.sample([0,1,2,3])"
   ]
  },
  {
   "cell_type": "code",
   "execution_count": 66,
   "metadata": {},
   "outputs": [],
   "source": [
    "T_sample = Type()\n",
    "for i in range(100):\n",
    "    T_sample.judge(i,np.random.uniform(0,1))"
   ]
  },
  {
   "cell_type": "code",
   "execution_count": 67,
   "metadata": {},
   "outputs": [
    {
     "data": {
      "text/plain": [
       "array([77])"
      ]
     },
     "execution_count": 67,
     "metadata": {},
     "output_type": "execute_result"
    }
   ],
   "source": [
    "T_sample.sample(1)"
   ]
  },
  {
   "cell_type": "code",
   "execution_count": 68,
   "metadata": {},
   "outputs": [
    {
     "data": {
      "text/plain": [
       "True"
      ]
     },
     "execution_count": 68,
     "metadata": {},
     "output_type": "execute_result"
    }
   ],
   "source": [
    "dict = {'a':0,'b':1}\n",
    "0 in dict.values()"
   ]
  },
  {
   "cell_type": "code",
   "execution_count": 69,
   "metadata": {},
   "outputs": [
    {
     "data": {
      "text/plain": [
       "'[dog(a), dog(b)]'"
      ]
     },
     "execution_count": 69,
     "metadata": {},
     "output_type": "execute_result"
    }
   ],
   "source": [
    "Mtest=Possibility()\n",
    "Ind.in_poss(Mtest)\n",
    "PType(dog,['a'],Mtest)\n",
    "PType(dog,['b'],Mtest)\n",
    "dog_v = PType(dog,['v'])\n",
    "show(dog_v.matches(Mtest,5,['v'],[Ind]))"
   ]
  },
  {
   "cell_type": "code",
   "execution_count": 81,
   "metadata": {},
   "outputs": [
    {
     "name": "stdout",
     "output_type": "stream",
     "text": [
      "v\n",
      "Ind\n",
      "[dog(a), dog(b)]\n",
      "\n",
      "M0:\n",
      "_____________________________________________\n",
      "Ind: [(a, 1.0), (b, 1.0), (d, 1.0)]\n",
      "dog(a): []\n",
      "dog(b): []\n",
      "_____________________________________________\n",
      "\n",
      "dict_values([<probttrtypes.BTypeClass object at 0x10d3f6d68>, <probttrtypes.PTypeClass object at 0x10d3f7fd0>, <probttrtypes.PTypeClass object at 0x10d466668>])\n"
     ]
    },
    {
     "ename": "NameError",
     "evalue": "name 'showmodel' is not defined",
     "output_type": "error",
     "traceback": [
      "\u001b[0;31m---------------------------------------------------------------------------\u001b[0m",
      "\u001b[0;31mNameError\u001b[0m                                 Traceback (most recent call last)",
      "\u001b[0;32m<ipython-input-81-9393c987df50>\u001b[0m in \u001b[0;36m<module>\u001b[0;34m\u001b[0m\n\u001b[1;32m      5\u001b[0m \u001b[0mprint\u001b[0m\u001b[0;34m(\u001b[0m\u001b[0mshow\u001b[0m\u001b[0;34m(\u001b[0m\u001b[0mMtest\u001b[0m\u001b[0;34m)\u001b[0m\u001b[0;34m)\u001b[0m\u001b[0;34m\u001b[0m\u001b[0;34m\u001b[0m\u001b[0m\n\u001b[1;32m      6\u001b[0m \u001b[0mprint\u001b[0m\u001b[0;34m(\u001b[0m\u001b[0mshow\u001b[0m\u001b[0;34m(\u001b[0m\u001b[0mMtest\u001b[0m\u001b[0;34m.\u001b[0m\u001b[0mmodel\u001b[0m\u001b[0;34m.\u001b[0m\u001b[0mvalues\u001b[0m\u001b[0;34m(\u001b[0m\u001b[0;34m)\u001b[0m\u001b[0;34m)\u001b[0m\u001b[0;34m)\u001b[0m\u001b[0;34m\u001b[0m\u001b[0;34m\u001b[0m\u001b[0m\n\u001b[0;32m----> 7\u001b[0;31m \u001b[0mprint\u001b[0m\u001b[0;34m(\u001b[0m\u001b[0mshowmodel\u001b[0m\u001b[0;34m(\u001b[0m\u001b[0;34m)\u001b[0m\u001b[0;34m)\u001b[0m\u001b[0;34m\u001b[0m\u001b[0;34m\u001b[0m\u001b[0m\n\u001b[0m",
      "\u001b[0;31mNameError\u001b[0m: name 'showmodel' is not defined"
     ]
    }
   ],
   "source": [
    "f = Fun('v',Ind,PType(dog,['v']))\n",
    "print(f.var)\n",
    "print(show(f.domain_type))\n",
    "print(show(f.matches(Mtest,5)))\n",
    "print(show(Mtest))\n",
    "print(show(Mtest.model.values()))\n",
    "print(showmodel())"
   ]
  },
  {
   "cell_type": "code",
   "execution_count": 71,
   "metadata": {},
   "outputs": [
    {
     "name": "stdout",
     "output_type": "stream",
     "text": [
      "[0, 'a', 1]\n",
      "1\n"
     ]
    },
    {
     "data": {
      "text/plain": [
       "[0, 'a', 1, 2, <probttrtypes.BTypeClass at 0x10d4016d8>]"
      ]
     },
     "execution_count": 71,
     "metadata": {},
     "output_type": "execute_result"
    }
   ],
   "source": [
    "l=[0,'a',1]\n",
    "#print(l.pop(1))\n",
    "print(l)\n",
    "print(l.index('a'))\n",
    "l.append(2)\n",
    "l+[3]\n",
    "l+[f.domain_type]"
   ]
  },
  {
   "cell_type": "code",
   "execution_count": 72,
   "metadata": {},
   "outputs": [
    {
     "data": {
      "text/plain": [
       "True"
      ]
     },
     "execution_count": 72,
     "metadata": {},
     "output_type": "execute_result"
    }
   ],
   "source": [
    "0 in (0,1)"
   ]
  },
  {
   "cell_type": "code",
   "execution_count": null,
   "metadata": {},
   "outputs": [],
   "source": []
  }
 ],
 "metadata": {
  "kernelspec": {
   "display_name": "Python 3",
   "language": "python",
   "name": "python3"
  },
  "language_info": {
   "codemirror_mode": {
    "name": "ipython",
    "version": 3
   },
   "file_extension": ".py",
   "mimetype": "text/x-python",
   "name": "python",
   "nbconvert_exporter": "python",
   "pygments_lexer": "ipython3",
   "version": "3.7.3"
  }
 },
 "nbformat": 4,
 "nbformat_minor": 2
}
