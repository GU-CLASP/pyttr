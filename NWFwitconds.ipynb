{
 "cells": [
  {
   "cell_type": "markdown",
   "metadata": {},
   "source": [
    "# Non-well founded witness conditions"
   ]
  },
  {
   "cell_type": "code",
   "execution_count": 1,
   "metadata": {},
   "outputs": [],
   "source": [
    "from ttrtypes import Type\n",
    "from utils import show"
   ]
  },
  {
   "cell_type": "markdown",
   "metadata": {},
   "source": [
    "We allow arbitrary functions as the witness conditions of types.  There is nothing to guarantee that these witness conditions will not in principle get us into an infinite loop of computation calling the same witness condition with the same argument over and over.  When `pyttr` recognizes this situation, it returns `False`.  In the cell below the only way of being a witness for `SillyT` is to be a witness for `SillyT`."
   ]
  },
  {
   "cell_type": "code",
   "execution_count": 2,
   "metadata": {},
   "outputs": [
    {
     "data": {
      "text/plain": [
       "False"
      ]
     },
     "execution_count": 2,
     "metadata": {},
     "output_type": "execute_result"
    }
   ],
   "source": [
    "SillyT = Type('SillyT')\n",
    "SillyT.learn_witness_condition(lambda x: SillyT.query(x))\n",
    "SillyT.query('a')"
   ]
  },
  {
   "cell_type": "markdown",
   "metadata": {},
   "source": [
    "However, if we have some other reason to believe that `'a'` is of type `SillyT`, for example, we  `judge()` it independently to be of this type, then the query will succeed."
   ]
  },
  {
   "cell_type": "code",
   "execution_count": 3,
   "metadata": {},
   "outputs": [
    {
     "data": {
      "text/plain": [
       "True"
      ]
     },
     "execution_count": 3,
     "metadata": {},
     "output_type": "execute_result"
    }
   ],
   "source": [
    "SillyT.judge('a')\n",
    "SillyT.query('a')"
   ]
  },
  {
   "cell_type": "markdown",
   "metadata": {},
   "source": [
    "Another way to create independent reasons for an object being of this type is to add another witness condition which can be computed without getting into a loop."
   ]
  },
  {
   "cell_type": "code",
   "execution_count": 4,
   "metadata": {},
   "outputs": [
    {
     "data": {
      "text/plain": [
       "True"
      ]
     },
     "execution_count": 4,
     "metadata": {},
     "output_type": "execute_result"
    }
   ],
   "source": [
    "SillyT.learn_witness_condition(lambda x: isinstance(x,str))\n",
    "SillyT.query('b')"
   ]
  },
  {
   "cell_type": "markdown",
   "metadata": {},
   "source": [
    "This can also be used to deal with some kinds of paradoxical types.  Consider `ParadoxT` below.  Something is a witness for this type just in case it is not a witness for the type.  `pyttr` does not allow there to be any witnesses for this type."
   ]
  },
  {
   "cell_type": "code",
   "execution_count": 5,
   "metadata": {},
   "outputs": [
    {
     "data": {
      "text/plain": [
       "False"
      ]
     },
     "execution_count": 5,
     "metadata": {},
     "output_type": "execute_result"
    }
   ],
   "source": [
    "ParadoxT = Type('ParadoxT')\n",
    "ParadoxT.learn_witness_condition(lambda x: not ParadoxT.query(x))\n",
    "ParadoxT.query('a')"
   ]
  },
  {
   "cell_type": "markdown",
   "metadata": {},
   "source": [
    "Note that the non-well foundedness of witness conditions need not be apparent from the inspection of a single type.  In the example below, `T1` and `T2` are equivalent in that the only way for something to be of type `T1` is to be of type `T2` and vice versa. In the notebook `lspc` we discuss left and right as an example of this: $a$ is to the left of $b$ just in case $b$ is to the right of $a$."
   ]
  },
  {
   "cell_type": "code",
   "execution_count": 6,
   "metadata": {},
   "outputs": [
    {
     "data": {
      "text/plain": [
       "False"
      ]
     },
     "execution_count": 6,
     "metadata": {},
     "output_type": "execute_result"
    }
   ],
   "source": [
    "T1 = Type('T1')\n",
    "T2 = Type('T2')\n",
    "T1.learn_witness_condition(lambda x: T2.query(x))\n",
    "T2.learn_witness_condition(lambda x: T1.query(x))\n",
    "T1.query('a')"
   ]
  },
  {
   "cell_type": "markdown",
   "metadata": {},
   "source": [
    "However, if we judge something to be of one of these types, it will also be of the other type."
   ]
  },
  {
   "cell_type": "code",
   "execution_count": 7,
   "metadata": {},
   "outputs": [
    {
     "data": {
      "text/plain": [
       "True"
      ]
     },
     "execution_count": 7,
     "metadata": {},
     "output_type": "execute_result"
    }
   ],
   "source": [
    "T2.judge('a')\n",
    "T1.query('a')"
   ]
  },
  {
   "cell_type": "markdown",
   "metadata": {},
   "source": [
    "Similarly if we add a witness condition, for example, to `T2`, it will have an effect on `T1`."
   ]
  },
  {
   "cell_type": "code",
   "execution_count": 8,
   "metadata": {},
   "outputs": [
    {
     "data": {
      "text/plain": [
       "True"
      ]
     },
     "execution_count": 8,
     "metadata": {},
     "output_type": "execute_result"
    }
   ],
   "source": [
    "T2.learn_witness_condition(lambda x: isinstance(x,str))\n",
    "T1.query('b')"
   ]
  }
 ],
 "metadata": {
  "kernelspec": {
   "display_name": "Python 3",
   "language": "python",
   "name": "python3"
  },
  "language_info": {
   "codemirror_mode": {
    "name": "ipython",
    "version": 3
   },
   "file_extension": ".py",
   "mimetype": "text/x-python",
   "name": "python",
   "nbconvert_exporter": "python",
   "pygments_lexer": "ipython3",
   "version": "3.7.3"
  }
 },
 "nbformat": 4,
 "nbformat_minor": 2
}
