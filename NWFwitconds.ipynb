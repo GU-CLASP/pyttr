{
 "cells": [
  {
   "cell_type": "markdown",
   "metadata": {},
   "source": [
    "# Non-well founded witness conditions"
   ]
  },
  {
   "cell_type": "code",
   "execution_count": 1,
   "metadata": {},
   "outputs": [],
   "source": [
    "from ttrtypes import Type"
   ]
  },
  {
   "cell_type": "markdown",
   "metadata": {},
   "source": [
    "We allow arbitrary functions as the witness conditions of types.  There is nothing to guarantee that these witness conditions will not in principle get us into an infinite loop of computation calling the same witness condition with the same argument over and over.  When `pyttr` recognizes this situation, it returns `False`.  In the cell below the only way of being a witness for `SillyT` is to be a witness for `SillyT`."
   ]
  },
  {
   "cell_type": "code",
   "execution_count": 2,
   "metadata": {},
   "outputs": [
    {
     "data": {
      "text/plain": [
       "False"
      ]
     },
     "execution_count": 2,
     "metadata": {},
     "output_type": "execute_result"
    }
   ],
   "source": [
    "SillyT = Type()\n",
    "SillyT.learn_witness_condition(lambda x: SillyT.query(x))\n",
    "SillyT.query('a')"
   ]
  },
  {
   "cell_type": "markdown",
   "metadata": {},
   "source": [
    "However, if we have some other reason to believe that `'a'` is of type `SillyT`, for example, we  `judge()` it independently to be of this type, then the query will succeed."
   ]
  },
  {
   "cell_type": "code",
   "execution_count": 3,
   "metadata": {},
   "outputs": [
    {
     "data": {
      "text/plain": [
       "True"
      ]
     },
     "execution_count": 3,
     "metadata": {},
     "output_type": "execute_result"
    }
   ],
   "source": [
    "SillyT.judge('a')\n",
    "SillyT.query('a')"
   ]
  },
  {
   "cell_type": "markdown",
   "metadata": {},
   "source": [
    "This can also be used to deal with some kinds of paradoxical types.  Consider `ParadoxT` below.  Something is a witness for this type just in case it is not a witness for the type."
   ]
  },
  {
   "cell_type": "code",
   "execution_count": 4,
   "metadata": {},
   "outputs": [
    {
     "data": {
      "text/plain": [
       "False"
      ]
     },
     "execution_count": 4,
     "metadata": {},
     "output_type": "execute_result"
    }
   ],
   "source": [
    "ParadoxT = Type()\n",
    "ParadoxT.learn_witness_condition(lambda x: not ParadoxT.query(x))\n",
    "ParadoxT.query('a')"
   ]
  },
  {
   "cell_type": "code",
   "execution_count": 5,
   "metadata": {},
   "outputs": [
    {
     "name": "stdout",
     "output_type": "stream",
     "text": [
      "a\n",
      "FrameInfo(frame=<frame at 0x7fa3e37f29d8, file '<ipython-input-5-aefa5e6c471f>', line 10, code f>, filename='<ipython-input-5-aefa5e6c471f>', lineno=9, function='f', code_context=['    stack = list(inspect.stack())[:4]\\n'], index=0)\n",
      "['a', 'b', 10]\n"
     ]
    }
   ],
   "source": [
    "import inspect\n",
    "\n",
    "def apply_lambda(f,a):\n",
    "    return f(a)\n",
    "apply_lambda(lambda x: print(x),\n",
    "    'a')\n",
    "\n",
    "def f(a,b,c=10):\n",
    "    stack = list(inspect.stack())[:4]\n",
    "    print(stack[0])\n",
    "    print(list(inspect.getargvalues(stack[0][0]).locals.values())[:len([0,1,2])])\n",
    "#   c = c-1\n",
    "#   print(c)\n",
    "#   if c>0:\n",
    "#       f(a,b,c)\n",
    "#   #print(inspect.getcallargs(stack[0][3],*args))\n",
    "    \n",
    "f('a','b')"
   ]
  },
  {
   "cell_type": "code",
   "execution_count": 6,
   "metadata": {},
   "outputs": [
    {
     "data": {
      "text/plain": [
       "True"
      ]
     },
     "execution_count": 6,
     "metadata": {},
     "output_type": "execute_result"
    }
   ],
   "source": [
    "5<=10"
   ]
  },
  {
   "cell_type": "code",
   "execution_count": null,
   "metadata": {},
   "outputs": [],
   "source": []
  }
 ],
 "metadata": {
  "kernelspec": {
   "display_name": "Python 3",
   "language": "python",
   "name": "python3"
  },
  "language_info": {
   "codemirror_mode": {
    "name": "ipython",
    "version": 3
   },
   "file_extension": ".py",
   "mimetype": "text/x-python",
   "name": "python",
   "nbconvert_exporter": "python",
   "pygments_lexer": "ipython3",
   "version": "3.7.3"
  }
 },
 "nbformat": 4,
 "nbformat_minor": 2
}
