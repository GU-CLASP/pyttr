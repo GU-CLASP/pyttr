{
 "cells": [
  {
   "cell_type": "code",
   "execution_count": 1,
   "id": "906106e3",
   "metadata": {},
   "outputs": [],
   "source": [
    "from probttrtypes import Type, BType, PConstraint, Pred, PType, Possibility, RecType, Fun\n",
    "from utils import show, show_latex\n",
    "from records import Rec"
   ]
  },
  {
   "cell_type": "markdown",
   "id": "ad690672",
   "metadata": {},
   "source": [
    "## Judgement"
   ]
  },
  {
   "cell_type": "code",
   "execution_count": 2,
   "id": "33020267",
   "metadata": {},
   "outputs": [
    {
     "data": {
      "text/plain": [
       "'0.5'"
      ]
     },
     "execution_count": 2,
     "metadata": {},
     "output_type": "execute_result"
    }
   ],
   "source": [
    "T = Type()\n",
    "T.judge('a',.5)\n",
    "show(T.query('a'))"
   ]
  },
  {
   "cell_type": "markdown",
   "id": "1ebf4cd4",
   "metadata": {},
   "source": [
    "## Basic types"
   ]
  },
  {
   "cell_type": "code",
   "execution_count": 3,
   "id": "d2327c5c",
   "metadata": {},
   "outputs": [
    {
     "data": {
      "text/plain": [
       "'1.0'"
      ]
     },
     "execution_count": 3,
     "metadata": {},
     "output_type": "execute_result"
    }
   ],
   "source": [
    "Ind = BType('Ind')\n",
    "Ind.judge('a',1)\n",
    "show(Ind.query('a'))"
   ]
  },
  {
   "cell_type": "markdown",
   "id": "4219f78d",
   "metadata": {},
   "source": [
    "An alternative way of judging for probability `1`."
   ]
  },
  {
   "cell_type": "code",
   "execution_count": 4,
   "id": "bf7b7ff4",
   "metadata": {},
   "outputs": [
    {
     "data": {
      "text/plain": [
       "'1.0'"
      ]
     },
     "execution_count": 4,
     "metadata": {},
     "output_type": "execute_result"
    }
   ],
   "source": [
    "Ind.judge('b')\n",
    "show(Ind.query('b'))"
   ]
  },
  {
   "cell_type": "markdown",
   "id": "ad64dd48",
   "metadata": {},
   "source": [
    "## Witness conditions for types"
   ]
  },
  {
   "cell_type": "code",
   "execution_count": 5,
   "id": "56c83592",
   "metadata": {},
   "outputs": [
    {
     "data": {
      "text/plain": [
       "'1.0'"
      ]
     },
     "execution_count": 5,
     "metadata": {},
     "output_type": "execute_result"
    }
   ],
   "source": [
    "def RealClassifier(n):\n",
    "    if isinstance(n,float):\n",
    "        return PConstraint(1)\n",
    "    else:\n",
    "        return PConstraint(0)\n",
    "Real = Type('Real')\n",
    "Real.learn_witness_condition(RealClassifier)\n",
    "show(Real.query(.6))"
   ]
  },
  {
   "cell_type": "code",
   "execution_count": 6,
   "id": "42a3793d",
   "metadata": {},
   "outputs": [
    {
     "data": {
      "text/plain": [
       "'0.0'"
      ]
     },
     "execution_count": 6,
     "metadata": {},
     "output_type": "execute_result"
    }
   ],
   "source": [
    "show(Real.query('a'))"
   ]
  },
  {
   "cell_type": "markdown",
   "id": "9e36001f",
   "metadata": {},
   "source": [
    "## Intensionality"
   ]
  },
  {
   "cell_type": "code",
   "execution_count": 7,
   "id": "296b4987",
   "metadata": {
    "scrolled": true
   },
   "outputs": [
    {
     "name": "stdout",
     "output_type": "stream",
     "text": [
      "([a, b], [0.4, 0.6])\n",
      "([b, a], [0.6, 0.4])\n",
      "True\n",
      "False\n"
     ]
    }
   ],
   "source": [
    "T1 = Type()\n",
    "T2 = Type()\n",
    "T1.judge('a',.4)\n",
    "T1.judge('b',.6)\n",
    "T2.judge('b',.6)\n",
    "T2.judge('a',.4)\n",
    "\n",
    "print(show(T1.witness_cache))\n",
    "print(show(T2.witness_cache))\n",
    "print(set(show(list(zip(T1.witness_cache[0],T1.witness_cache[1])))) == set(show(list(zip(T2.witness_cache[0],T2.witness_cache[1])))))\n",
    "print(T1==T2)"
   ]
  },
  {
   "cell_type": "markdown",
   "id": "060c854b",
   "metadata": {},
   "source": [
    "## Ptypes"
   ]
  },
  {
   "cell_type": "code",
   "execution_count": 8,
   "id": "714a1ae7",
   "metadata": {},
   "outputs": [
    {
     "name": "stdout",
     "output_type": "stream",
     "text": [
      "0.7\n",
      "0.0\n",
      "<=1.0\n"
     ]
    }
   ],
   "source": [
    "run = Pred('run',[Ind])\n",
    "hug = Pred('hug',[Ind,Ind])\n",
    "Ind.judge('b')\n",
    "Ind.judge('d')\n",
    "run_d = PType(run,['d'])\n",
    "hug_b_d = PType(hug,['b','d'])\n",
    "run_d.judge('e1',.7)\n",
    "hug_b_d.judge('e2',0)\n",
    "\n",
    "print(show(run_d.query('e1')))\n",
    "print(show(hug_b_d.query('e2')))\n",
    "print(show(hug_b_d.query('e1')))"
   ]
  },
  {
   "cell_type": "markdown",
   "id": "554b8b8d",
   "metadata": {},
   "source": [
    "## Possibilities (models)"
   ]
  },
  {
   "cell_type": "code",
   "execution_count": 9,
   "id": "6fe59246",
   "metadata": {},
   "outputs": [
    {
     "name": "stdout",
     "output_type": "stream",
     "text": [
      "\n",
      "M1:\n",
      "_____________________________________________\n",
      "Ind: [(a, 1.0), (b, 1.0), (d, 1.0)]\n",
      "run(d): [(e1, 0.7)]\n",
      "hug(b, d): [(e2, 0.0)]\n",
      "_____________________________________________\n",
      "\n"
     ]
    }
   ],
   "source": [
    "M1 = Possibility('M1')\n",
    "\n",
    "Ind.in_poss(M1)\n",
    "run_d.in_poss(M1)\n",
    "hug_b_d.in_poss(M1)\n",
    "\n",
    "print(show(M1))"
   ]
  },
  {
   "cell_type": "code",
   "execution_count": 10,
   "id": "5ad0330f",
   "metadata": {},
   "outputs": [
    {
     "name": "stdout",
     "output_type": "stream",
     "text": [
      "\n",
      "M2:\n",
      "_____________________________________________\n",
      "Ind: [(c, 1.0)]\n",
      "run(c): [(e1, 0.9)]\n",
      "_____________________________________________\n",
      "\n"
     ]
    }
   ],
   "source": [
    "M2 = Possibility('M2')\n",
    "\n",
    "BType('Ind',M2).judge('c')\n",
    "PType(run,['c'],M2).judge('e1',.9)\n",
    "\n",
    "print(show(M2))"
   ]
  },
  {
   "cell_type": "markdown",
   "id": "e5d0378d",
   "metadata": {},
   "source": [
    "## Witness conditions associated with ptypes"
   ]
  },
  {
   "cell_type": "code",
   "execution_count": 11,
   "id": "7428e85f",
   "metadata": {},
   "outputs": [
    {
     "name": "stdout",
     "output_type": "stream",
     "text": [
      "\n",
      "M:\n",
      "_____________________________________________\n",
      "right(b, a): [(s1, 0.6)]\n",
      "left(a, b): [(s2, 0.7)]\n",
      "_____________________________________________\n",
      "\n",
      "0.6\n",
      "0.7\n",
      "\n",
      "M:\n",
      "_____________________________________________\n",
      "right(b, a): [(s1, 0.6), (s2, 0.7)]\n",
      "left(a, b): [(s2, 0.7), (s1, 0.6)]\n",
      "_____________________________________________\n",
      "\n"
     ]
    }
   ],
   "source": [
    "left = Pred('left',[Ind,Ind])\n",
    "right = Pred('right',[Ind,Ind])\n",
    "left.learn_witness_fun(lambda args: PType(right,[args[1],args[0]]))\n",
    "right.learn_witness_fun(lambda args: PType(left,[args[1],args[0]]))\n",
    "left_a_b = PType(left,['a','b'])\n",
    "right_b_a = PType(right,['b','a'])\n",
    "M = Possibility('M')\n",
    "right_b_a.in_poss(M).judge('s1',.6)\n",
    "left_a_b.in_poss(M).judge('s2',.7)\n",
    "print(show(M))\n",
    "print(show(left_a_b.in_poss(M).query('s1')))\n",
    "print(show(right_b_a.in_poss(M).query('s2')))\n",
    "print(show(M))"
   ]
  },
  {
   "cell_type": "markdown",
   "id": "79ab4db7",
   "metadata": {},
   "source": [
    "## Record Types"
   ]
  },
  {
   "cell_type": "code",
   "execution_count": 12,
   "id": "c23326ea",
   "metadata": {},
   "outputs": [
    {
     "name": "stdout",
     "output_type": "stream",
     "text": [
      "{x : Ind, c_boy : (lambda v:Ind . boy(v), [x]), y : Ind, c_dog : (lambda v:Ind . dog(v), [y]), e : (lambda v1:Ind . lambda v2:Ind . hug(v1, v2), [x, y])}\n"
     ]
    },
    {
     "data": {
      "text/latex": [
       "\\begin{equation}\\left[\\begin{array}{lcl}\n",
       "\\text{x} &:& \\textit{Ind}\\\\\n",
       "\\text{c}_{\\text{boy}} &:& \\langle \\lambda v:\\textit{Ind}\\ .\\ \\text{boy}(v), \\langle \\text{x}\\rangle\\rangle\\\\\n",
       "\\text{y} &:& \\textit{Ind}\\\\\n",
       "\\text{c}_{\\text{dog}} &:& \\langle \\lambda v:\\textit{Ind}\\ .\\ \\text{dog}(v), \\langle \\text{y}\\rangle\\rangle\\\\\n",
       "\\text{e} &:& \\langle \\lambda v_{1}:\\textit{Ind}\\ .\\ \\lambda v_{2}:\\textit{Ind}\\ .\\ \\text{hug}(v_{1}, v_{2}), \\langle \\text{x}, \\text{y}\\rangle\\rangle\n",
       "\\end{array}\\right]\\end{equation}"
      ],
      "text/plain": [
       "<IPython.core.display.Latex object>"
      ]
     },
     "execution_count": 12,
     "metadata": {},
     "output_type": "execute_result"
    }
   ],
   "source": [
    "boy = Pred('boy',[Ind])\n",
    "dog = Pred('dog',[Ind])\n",
    "a_boy_hugs_a_dog = RecType({'x':Ind,\n",
    "                            'c_boy':(Fun('v',Ind,PType(boy,['v'])), ['x']),\n",
    "                            'y':Ind,\n",
    "                            'c_dog':(Fun('v',Ind,PType(dog,['v'])), ['y']),\n",
    "                            'e':(Fun('v1',Ind,Fun('v2',Ind, PType(hug,['v1','v2']))), \n",
    "                                     ['x','y'])})\n",
    "print(show(a_boy_hugs_a_dog))\n",
    "show_latex(a_boy_hugs_a_dog)"
   ]
  },
  {
   "cell_type": "code",
   "execution_count": 13,
   "id": "8563d14e",
   "metadata": {},
   "outputs": [
    {
     "name": "stdout",
     "output_type": "stream",
     "text": [
      "\n",
      "M3:\n",
      "_____________________________________________\n",
      "Ind: [(a, 1.0), (b, 1.0)]\n",
      "boy(a): [(s1, 0.9)]\n",
      "dog(b): [(s2, 0.95)]\n",
      "hug(a, b): [(s3, 0.7)]\n",
      "_____________________________________________\n",
      "\n"
     ]
    }
   ],
   "source": [
    "M3 = Possibility('M3')\n",
    "Ind3 = BType('Ind',M3)\n",
    "Ind3.judge('a')\n",
    "Ind3.judge('b')\n",
    "PType(boy,['a']).in_poss(M3).judge('s1',.9)\n",
    "PType(dog,['b']).in_poss(M3).judge('s2',.95)\n",
    "PType(hug,['a','b']).in_poss(M3).judge('s3',.7)\n",
    "\n",
    "print(show(M3))"
   ]
  },
  {
   "cell_type": "code",
   "execution_count": 14,
   "id": "ff8c87fe",
   "metadata": {},
   "outputs": [
    {
     "name": "stdout",
     "output_type": "stream",
     "text": [
      "{x = a, c_boy = s1, y = b, c_dog = s2, e = s3}\n"
     ]
    },
    {
     "data": {
      "text/latex": [
       "\\begin{equation}\\left[\\begin{array}{rcl}\n",
       "\\text{x} &=& \\text{a}\\\\\n",
       "\\text{c}_{\\text{boy}} &=& \\text{s}_{\\text{1}}\\\\\n",
       "\\text{y} &=& \\text{b}\\\\\n",
       "\\text{c}_{\\text{dog}} &=& \\text{s}_{\\text{2}}\\\\\n",
       "\\text{e} &=& \\text{s}_{\\text{3}}\n",
       "\\end{array}\\right]\\end{equation}"
      ],
      "text/plain": [
       "<IPython.core.display.Latex object>"
      ]
     },
     "execution_count": 14,
     "metadata": {},
     "output_type": "execute_result"
    }
   ],
   "source": [
    "r1 = Rec({'x':'a','c_boy':'s1','y':'b','c_dog':'s2','e':'s3'})\n",
    "\n",
    "print(show(r1))\n",
    "show_latex(r1)"
   ]
  },
  {
   "cell_type": "code",
   "execution_count": 15,
   "id": "6c8e05c6",
   "metadata": {},
   "outputs": [
    {
     "data": {
      "text/plain": [
       "'0.5984999999999999'"
      ]
     },
     "execution_count": 15,
     "metadata": {},
     "output_type": "execute_result"
    }
   ],
   "source": [
    "show(a_boy_hugs_a_dog.in_poss(M3).query(r1))"
   ]
  },
  {
   "cell_type": "code",
   "execution_count": 16,
   "id": "4cf900e3",
   "metadata": {},
   "outputs": [
    {
     "data": {
      "text/plain": [
       "0.5984999999999999"
      ]
     },
     "execution_count": 16,
     "metadata": {},
     "output_type": "execute_result"
    }
   ],
   "source": [
    "1*1*.9*.95*.7"
   ]
  },
  {
   "cell_type": "markdown",
   "id": "391518fb",
   "metadata": {},
   "source": [
    "## String types\n",
    "\n",
    "_Not yet implemented_"
   ]
  }
 ],
 "metadata": {
  "kernelspec": {
   "display_name": "Python 3 (ipykernel)",
   "language": "python",
   "name": "python3"
  },
  "language_info": {
   "codemirror_mode": {
    "name": "ipython",
    "version": 3
   },
   "file_extension": ".py",
   "mimetype": "text/x-python",
   "name": "python",
   "nbconvert_exporter": "python",
   "pygments_lexer": "ipython3",
   "version": "3.8.9"
  }
 },
 "nbformat": 4,
 "nbformat_minor": 5
}
