{
 "cells": [
  {
   "cell_type": "markdown",
   "metadata": {},
   "source": [
    "# ProbTTR Bayes classifier"
   ]
  },
  {
   "cell_type": "code",
   "execution_count": 1,
   "metadata": {},
   "outputs": [],
   "source": [
    "from probttrtypes import Type,VarType,PRound,MeetType\n",
    "from utils import show"
   ]
  },
  {
   "cell_type": "markdown",
   "metadata": {},
   "source": [
    "## Random variables in TTR"
   ]
  },
  {
   "cell_type": "markdown",
   "metadata": {},
   "source": [
    "In ... Staffan Larsson has introduced a formulation of random variables as a TTR type.  In probabilistic `pyttr` we  create such a type as an instance of the class `VarType` (variable type).  We create a variable type by `V = VarType(types)` where `types` is a list of types, known as the value types.  The idea is that an object will be of type `V` with either probability 1 or 0.  For any witness for `V`, we will obtain a distribution of probabilities over the types in `types`, that is, the sum of the probabilities that the witness is of type `T` for all the types in `types` will be 1.  Below we define an abstract example."
   ]
  },
  {
   "cell_type": "code",
   "execution_count": 2,
   "metadata": {},
   "outputs": [
    {
     "name": "stdout",
     "output_type": "stream",
     "text": [
      "1.0\n"
     ]
    }
   ],
   "source": [
    "A1 = Type()\n",
    "A2 = Type()\n",
    "A3 = Type()\n",
    "A1.judge('a',.3)\n",
    "A2.judge('a',.3)\n",
    "A3.judge('a',.4)\n",
    "V1 = VarType([A1,A2,A3])\n",
    "print(show(V1.query('a')))"
   ]
  },
  {
   "cell_type": "markdown",
   "metadata": {},
   "source": [
    "In order to query the probability that an object is of type `T` with respect to a variable type `V`, we use the  method `query_v` as in `query_v('a',T)`."
   ]
  },
  {
   "cell_type": "code",
   "execution_count": 3,
   "metadata": {
    "scrolled": false
   },
   "outputs": [
    {
     "name": "stdout",
     "output_type": "stream",
     "text": [
      "0.3\n",
      "0.3\n",
      "0.4\n"
     ]
    }
   ],
   "source": [
    "for T in [A1,A2,A3]:\n",
    "    print(show(V1.query_v('a',T)))"
   ]
  },
  {
   "cell_type": "markdown",
   "metadata": {},
   "source": [
    "In the example above the result returned by `V1.query_v('a',T)` for any of the types on which `V1` is defined is the same as the result returned by `T.query('a')` because we declared the probabilities to form a distribution.  In the theoretical presentation of random variables in TTR it is required that the probabilities computed independently of the variable type are the same as the probabilities computed with respect to the variable type.  However, in `pyttr` we allow the variable to distribute arbitrary probability mass so that a distribution is formed.  If `V` is a variable type based on the types `[T1,...,Tn]`, then `V.query_v(a,Ti)` returns\n",
    "\n",
    ">$\\displaystyle{\\frac{\\texttt{Ti.query(a)}}{\\Sigma_{T\\in\\texttt{[T1,...,Tn]}}\\texttt{T.query(a)}}}$ \n",
    "\n",
    "This guarantees that \n",
    "\n",
    ">$\\displaystyle{\\{\\texttt{Ti.query}\\_\\texttt{v(a)}\\mid \\texttt{Ti}\\in\\texttt{T1,...,Tn}\\}}$\n",
    "\n",
    "is a probability distribution adding to 1.\n",
    "\n",
    "The effect of this intuitively is to change the probability of something being a witness type  depending on what other types you are currently comparing it with.  This might be one way of dealing with examples like the difference in redness of faces, wine, coats, apples etc.\n",
    "\n",
    "In the example below we consider an example of an apple which as an object may be considered to be greenish yellow.  However, in a classification of apples as being either green or red it would be considered to be definitely green."
   ]
  },
  {
   "cell_type": "code",
   "execution_count": 4,
   "metadata": {},
   "outputs": [
    {
     "name": "stdout",
     "output_type": "stream",
     "text": [
      "1.0\n",
      "0.0\n"
     ]
    }
   ],
   "source": [
    "Green = Type()\n",
    "Yellow = Type()\n",
    "Red = Type()\n",
    "AppleVar = VarType([Green,Red])\n",
    "Green.judge('a1',.6)\n",
    "Yellow.judge('a1',.4)\n",
    "Red.judge('a1',0)\n",
    "print(show(AppleVar.query_v('a1',Green)))\n",
    "print(show(AppleVar.query_v('a1',Red)))"
   ]
  },
  {
   "cell_type": "markdown",
   "metadata": {},
   "source": [
    "An object is not a witness for a variable type if it has zero probability of being a witness for all the value types, that is, the types, `T1,...,Tn`, on which the variable type is based."
   ]
  },
  {
   "cell_type": "code",
   "execution_count": 5,
   "metadata": {},
   "outputs": [
    {
     "name": "stdout",
     "output_type": "stream",
     "text": [
      "0.0\n"
     ]
    }
   ],
   "source": [
    "A1.judge('b',0)\n",
    "A2.judge('b',0)\n",
    "A3.judge('b',0)\n",
    "print(show(V1.query('b')))"
   ]
  },
  {
   "cell_type": "markdown",
   "metadata": {},
   "source": [
    "An object will be a witness of the variable type if it has any non-zero probability of being a witness for any of the value types.  (Here we use `PRound`, an adaptation to probability intervals of Python's in-built function `round`, to correct an error which occurs because we are using floating point numbers.)"
   ]
  },
  {
   "cell_type": "code",
   "execution_count": 6,
   "metadata": {},
   "outputs": [
    {
     "name": "stdout",
     "output_type": "stream",
     "text": [
      "1.0\n"
     ]
    }
   ],
   "source": [
    "A1.judge('c',.1)\n",
    "print(show(PRound(V1.query('c'))))"
   ]
  },
  {
   "cell_type": "markdown",
   "metadata": {},
   "source": [
    "This has the consequence that the value types are subtypes of the variable type."
   ]
  },
  {
   "cell_type": "code",
   "execution_count": 7,
   "metadata": {
    "scrolled": false
   },
   "outputs": [
    {
     "data": {
      "text/plain": [
       "True"
      ]
     },
     "execution_count": 7,
     "metadata": {},
     "output_type": "execute_result"
    }
   ],
   "source": [
    "A1.subtype_of(V1)"
   ]
  },
  {
   "cell_type": "markdown",
   "metadata": {},
   "source": [
    "If we query an object for which we have no judgements for any of the value types, \"Don't know\" ([0,1] or <=1) is returned."
   ]
  },
  {
   "cell_type": "code",
   "execution_count": 8,
   "metadata": {},
   "outputs": [
    {
     "name": "stdout",
     "output_type": "stream",
     "text": [
      "<=1.0\n"
     ]
    }
   ],
   "source": [
    "print(show(V1.query('d')))"
   ]
  },
  {
   "cell_type": "markdown",
   "metadata": {},
   "source": [
    "The value types within a variable type preclude each other, that is, it is not possible for something to be a witness (with probability 1) for more than one of the types.  For example, the probability that something will be of the meet type $\\texttt{A1}\\wedge\\texttt{A2}$ for our example `V1` will be 0."
   ]
  },
  {
   "cell_type": "code",
   "execution_count": 9,
   "metadata": {},
   "outputs": [
    {
     "data": {
      "text/plain": [
       "'0.0'"
      ]
     },
     "execution_count": 9,
     "metadata": {},
     "output_type": "execute_result"
    }
   ],
   "source": [
    "show(V1.query_v('a',MeetType(A1,A2)))"
   ]
  },
  {
   "cell_type": "markdown",
   "metadata": {},
   "source": [
    "In the current implementation this preclusion need not hold externally to the variable.  Thus if we query `'a'` with respect to `MeetType(A1,A2)` in the example above we get a different result."
   ]
  },
  {
   "cell_type": "code",
   "execution_count": 10,
   "metadata": {},
   "outputs": [
    {
     "data": {
      "text/plain": [
       "'0.09'"
      ]
     },
     "execution_count": 10,
     "metadata": {},
     "output_type": "execute_result"
    }
   ],
   "source": [
    "show(MeetType(A1,A2).query('a'))"
   ]
  },
  {
   "cell_type": "markdown",
   "metadata": {},
   "source": [
    "## Non-specific and conditional probabilities"
   ]
  },
  {
   "cell_type": "markdown",
   "metadata": {},
   "source": [
    "Variable types can also be queried for non-specific and conditional probabilities as usual."
   ]
  },
  {
   "cell_type": "code",
   "execution_count": 11,
   "metadata": {},
   "outputs": [
    {
     "data": {
      "text/plain": [
       "'1.0'"
      ]
     },
     "execution_count": 11,
     "metadata": {},
     "output_type": "execute_result"
    }
   ],
   "source": [
    "show(PRound(V1.query_nonspec()))"
   ]
  },
  {
   "cell_type": "code",
   "execution_count": 12,
   "metadata": {},
   "outputs": [
    {
     "data": {
      "text/plain": [
       "'1.0'"
      ]
     },
     "execution_count": 12,
     "metadata": {},
     "output_type": "execute_result"
    }
   ],
   "source": [
    "show(V1.query('d',[('d',A2)])) # Should be 1"
   ]
  },
  {
   "cell_type": "code",
   "execution_count": 13,
   "metadata": {},
   "outputs": [
    {
     "data": {
      "text/plain": [
       "'0.1764705882352941'"
      ]
     },
     "execution_count": 13,
     "metadata": {},
     "output_type": "execute_result"
    }
   ],
   "source": [
    "show(V1.query_v('a',A1,[('a',A2)])) # Should be 0"
   ]
  },
  {
   "cell_type": "code",
   "execution_count": 14,
   "metadata": {},
   "outputs": [
    {
     "data": {
      "text/plain": [
       "'0.588235294117647'"
      ]
     },
     "execution_count": 14,
     "metadata": {},
     "output_type": "execute_result"
    }
   ],
   "source": [
    "show(V1.query_v('a',A1,[('a',A1)])) # Should be 1"
   ]
  },
  {
   "cell_type": "code",
   "execution_count": 15,
   "metadata": {},
   "outputs": [
    {
     "data": {
      "text/plain": [
       "False"
      ]
     },
     "execution_count": 15,
     "metadata": {},
     "output_type": "execute_result"
    }
   ],
   "source": [
    "not True and False"
   ]
  },
  {
   "cell_type": "code",
   "execution_count": null,
   "metadata": {},
   "outputs": [],
   "source": []
  }
 ],
 "metadata": {
  "kernelspec": {
   "display_name": "Python 3",
   "language": "python",
   "name": "python3"
  },
  "language_info": {
   "codemirror_mode": {
    "name": "ipython",
    "version": 3
   },
   "file_extension": ".py",
   "mimetype": "text/x-python",
   "name": "python",
   "nbconvert_exporter": "python",
   "pygments_lexer": "ipython3",
   "version": "3.8.2"
  }
 },
 "nbformat": 4,
 "nbformat_minor": 2
}
