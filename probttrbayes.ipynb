{
 "cells": [
  {
   "cell_type": "markdown",
   "metadata": {},
   "source": [
    "# ProbTTR Bayes classifier"
   ]
  },
  {
   "cell_type": "code",
   "execution_count": 1,
   "metadata": {},
   "outputs": [],
   "source": [
    "from probttrtypes import Type,VarType,PRound\n",
    "from utils import show"
   ]
  },
  {
   "cell_type": "markdown",
   "metadata": {},
   "source": [
    "## Random variables in TTR"
   ]
  },
  {
   "cell_type": "markdown",
   "metadata": {},
   "source": [
    "In ... Staffan Larsson has introduced a formulation of random variables as a TTR type.  In probabilistic `pyttr` we  create such a type as an instance of the class `VarType` (variable type).  We create a variable type by `V = VarType(Ts)` where `Ts` is a list of types.  The idea is that an object will be of type `V` with either probability 1 or 0.  For any witness for `V`, we will obtain a distribution of probalities over the types in `Ts`, that is, the sum of the probabilities that the witness is of type `T` for all the types in `Ts` will be 1.  Below we define an abstract example."
   ]
  },
  {
   "cell_type": "code",
   "execution_count": 2,
   "metadata": {},
   "outputs": [
    {
     "name": "stdout",
     "output_type": "stream",
     "text": [
      "1.0\n"
     ]
    }
   ],
   "source": [
    "A1 = Type()\n",
    "A2 = Type()\n",
    "A3 = Type()\n",
    "A1.judge('a',.3)\n",
    "A2.judge('a',.3)\n",
    "A3.judge('a',.4)\n",
    "V1 = VarType([A1,A2,A3])\n",
    "print(show(V1.query('a')))"
   ]
  },
  {
   "cell_type": "markdown",
   "metadata": {},
   "source": [
    "In order to query the probability that an object is of type `T` with respect to a variable type `V`, we use the  method `query_v` as in `query_v('a',T)`."
   ]
  },
  {
   "cell_type": "code",
   "execution_count": 3,
   "metadata": {},
   "outputs": [
    {
     "name": "stdout",
     "output_type": "stream",
     "text": [
      "0.3\n",
      "0.3\n",
      "0.4\n"
     ]
    }
   ],
   "source": [
    "for T in [A1,A2,A3]:\n",
    "    print(show(V1.query_v('a',T)))"
   ]
  },
  {
   "cell_type": "markdown",
   "metadata": {},
   "source": [
    "In the example above the result returned by `V1.query_v('a',T)` for any of the types on which `V1` is defined is the same as the result returned by `T.query('a')` because we declared the probabilities to form a distribution.  In the theoretical presentation of random variables in TTR it is required that the probabilities computed independently of the variable type are the same as the probabilities computed with respect to the variable type.  However, in `pyttr` we allow the variable to distribute arbitrary probability mass so that a distribution is formed.  The effect of this intuitively is to change the probability of something being a witness type  depending on what other types you are currently comparing it with.  This might be one way of dealing with examples like the difference in redness of faces, wine, coats, apples etc.\n",
    "\n",
    "In the example below we consider an example of an apple which as an object may be considered to be greenish yellow.  However, in a classification of apples as being either green or red it would be considered to be definitely green."
   ]
  },
  {
   "cell_type": "code",
   "execution_count": null,
   "metadata": {},
   "outputs": [],
   "source": []
  },
  {
   "cell_type": "code",
   "execution_count": 4,
   "metadata": {},
   "outputs": [
    {
     "name": "stdout",
     "output_type": "stream",
     "text": [
      "0.0\n"
     ]
    }
   ],
   "source": [
    "A1.judge('b',0)\n",
    "A2.judge('b',0)\n",
    "A3.judge('b',0)\n",
    "print(show(V1.query('b')))"
   ]
  },
  {
   "cell_type": "code",
   "execution_count": 7,
   "metadata": {},
   "outputs": [
    {
     "name": "stdout",
     "output_type": "stream",
     "text": [
      "1.0\n"
     ]
    }
   ],
   "source": [
    "A1.judge('c',.1)\n",
    "print(show(PRound(V1.query('c'))))"
   ]
  },
  {
   "cell_type": "code",
   "execution_count": 6,
   "metadata": {},
   "outputs": [
    {
     "name": "stdout",
     "output_type": "stream",
     "text": [
      "<=1.0\n"
     ]
    }
   ],
   "source": [
    "print(show(V1.query('d')))"
   ]
  },
  {
   "cell_type": "code",
   "execution_count": null,
   "metadata": {},
   "outputs": [],
   "source": []
  }
 ],
 "metadata": {
  "kernelspec": {
   "display_name": "Python 3",
   "language": "python",
   "name": "python3"
  },
  "language_info": {
   "codemirror_mode": {
    "name": "ipython",
    "version": 3
   },
   "file_extension": ".py",
   "mimetype": "text/x-python",
   "name": "python",
   "nbconvert_exporter": "python",
   "pygments_lexer": "ipython3",
   "version": "3.7.3"
  }
 },
 "nbformat": 4,
 "nbformat_minor": 2
}
